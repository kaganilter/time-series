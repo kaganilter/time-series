{
 "cells": [
  {
   "cell_type": "markdown",
   "metadata": {},
   "source": [
    "### Introduction"
   ]
  },
  {
   "cell_type": "markdown",
   "metadata": {},
   "source": [
    "## Read and Preprocess"
   ]
  },
  {
   "cell_type": "code",
   "execution_count": 1,
   "metadata": {},
   "outputs": [],
   "source": [
    "import pandas as pd\n",
    "from sklearn.preprocessing import StandardScaler\n",
    "import numpy as np\n",
    "\n",
    "import tensorflow as tf\n",
    "from tensorflow.keras.models import Sequential\n",
    "from tensorflow.keras.layers import Dense, Activation\n",
    "import keras\n",
    "import seaborn as sns\n",
    "import matplotlib.pyplot as plt\n",
    "# from fbprophet import Prophet\n",
    "# from fbprophet.plot import plot_plotly\n"
   ]
  },
  {
   "cell_type": "code",
   "execution_count": 2,
   "metadata": {},
   "outputs": [],
   "source": [
    "df=pd.read_csv('BH11D_labelled.csv', index_col=0)"
   ]
  },
  {
   "cell_type": "code",
   "execution_count": 3,
   "metadata": {},
   "outputs": [
    {
     "data": {
      "text/html": [
       "<div>\n",
       "<style scoped>\n",
       "    .dataframe tbody tr th:only-of-type {\n",
       "        vertical-align: middle;\n",
       "    }\n",
       "\n",
       "    .dataframe tbody tr th {\n",
       "        vertical-align: top;\n",
       "    }\n",
       "\n",
       "    .dataframe thead th {\n",
       "        text-align: right;\n",
       "    }\n",
       "</style>\n",
       "<table border=\"1\" class=\"dataframe\">\n",
       "  <thead>\n",
       "    <tr style=\"text-align: right;\">\n",
       "      <th></th>\n",
       "      <th>CH4</th>\n",
       "      <th>CO2</th>\n",
       "      <th>O2</th>\n",
       "      <th>BaroPres</th>\n",
       "      <th>Batt</th>\n",
       "      <th>Label</th>\n",
       "    </tr>\n",
       "    <tr>\n",
       "      <th>senseDate</th>\n",
       "      <th></th>\n",
       "      <th></th>\n",
       "      <th></th>\n",
       "      <th></th>\n",
       "      <th></th>\n",
       "      <th></th>\n",
       "    </tr>\n",
       "  </thead>\n",
       "  <tbody>\n",
       "    <tr>\n",
       "      <th>03/30/2016 16:01</th>\n",
       "      <td>0.24</td>\n",
       "      <td>0.04</td>\n",
       "      <td>20.94</td>\n",
       "      <td>1007.64</td>\n",
       "      <td>6.29</td>\n",
       "      <td>0</td>\n",
       "    </tr>\n",
       "    <tr>\n",
       "      <th>03/30/2016 16:12</th>\n",
       "      <td>0.24</td>\n",
       "      <td>0.04</td>\n",
       "      <td>20.75</td>\n",
       "      <td>1007.64</td>\n",
       "      <td>6.29</td>\n",
       "      <td>0</td>\n",
       "    </tr>\n",
       "    <tr>\n",
       "      <th>03/30/2016 16:23</th>\n",
       "      <td>0.28</td>\n",
       "      <td>0.04</td>\n",
       "      <td>20.73</td>\n",
       "      <td>1007.64</td>\n",
       "      <td>6.33</td>\n",
       "      <td>0</td>\n",
       "    </tr>\n",
       "    <tr>\n",
       "      <th>03/30/2016 17:21</th>\n",
       "      <td>0.32</td>\n",
       "      <td>0.04</td>\n",
       "      <td>20.63</td>\n",
       "      <td>1008.11</td>\n",
       "      <td>6.22</td>\n",
       "      <td>0</td>\n",
       "    </tr>\n",
       "    <tr>\n",
       "      <th>03/30/2016 18:19</th>\n",
       "      <td>0.35</td>\n",
       "      <td>0.04</td>\n",
       "      <td>20.52</td>\n",
       "      <td>1009.06</td>\n",
       "      <td>6.21</td>\n",
       "      <td>0</td>\n",
       "    </tr>\n",
       "  </tbody>\n",
       "</table>\n",
       "</div>"
      ],
      "text/plain": [
       "                   CH4   CO2     O2  BaroPres  Batt  Label\n",
       "senseDate                                                 \n",
       "03/30/2016 16:01  0.24  0.04  20.94   1007.64  6.29      0\n",
       "03/30/2016 16:12  0.24  0.04  20.75   1007.64  6.29      0\n",
       "03/30/2016 16:23  0.28  0.04  20.73   1007.64  6.33      0\n",
       "03/30/2016 17:21  0.32  0.04  20.63   1008.11  6.22      0\n",
       "03/30/2016 18:19  0.35  0.04  20.52   1009.06  6.21      0"
      ]
     },
     "execution_count": 3,
     "metadata": {},
     "output_type": "execute_result"
    }
   ],
   "source": [
    "df.head()"
   ]
  },
  {
   "cell_type": "code",
   "execution_count": 4,
   "metadata": {},
   "outputs": [
    {
     "name": "stdout",
     "output_type": "stream",
     "text": [
      "<class 'pandas.core.frame.DataFrame'>\n",
      "Index: 12424 entries, 03/30/2016 16:01 to 11/17/2017 16:17\n",
      "Data columns (total 6 columns):\n",
      " #   Column    Non-Null Count  Dtype  \n",
      "---  ------    --------------  -----  \n",
      " 0   CH4       12424 non-null  float64\n",
      " 1   CO2       12424 non-null  float64\n",
      " 2   O2        12424 non-null  float64\n",
      " 3   BaroPres  12424 non-null  float64\n",
      " 4   Batt      12424 non-null  float64\n",
      " 5   Label     12424 non-null  int64  \n",
      "dtypes: float64(5), int64(1)\n",
      "memory usage: 679.4+ KB\n"
     ]
    }
   ],
   "source": [
    "df.info()"
   ]
  },
  {
   "cell_type": "markdown",
   "metadata": {},
   "source": [
    "Before we can feed data into the neural network we must perform some preprocessing. "
   ]
  },
  {
   "cell_type": "code",
   "execution_count": 5,
   "metadata": {},
   "outputs": [
    {
     "data": {
      "text/html": [
       "<div>\n",
       "<style scoped>\n",
       "    .dataframe tbody tr th:only-of-type {\n",
       "        vertical-align: middle;\n",
       "    }\n",
       "\n",
       "    .dataframe tbody tr th {\n",
       "        vertical-align: top;\n",
       "    }\n",
       "\n",
       "    .dataframe thead th {\n",
       "        text-align: right;\n",
       "    }\n",
       "</style>\n",
       "<table border=\"1\" class=\"dataframe\">\n",
       "  <thead>\n",
       "    <tr style=\"text-align: right;\">\n",
       "      <th></th>\n",
       "      <th>CH4</th>\n",
       "      <th>CO2</th>\n",
       "      <th>O2</th>\n",
       "      <th>BaroPres</th>\n",
       "      <th>Batt</th>\n",
       "      <th>Label</th>\n",
       "    </tr>\n",
       "  </thead>\n",
       "  <tbody>\n",
       "    <tr>\n",
       "      <th>count</th>\n",
       "      <td>12424.000000</td>\n",
       "      <td>12424.000000</td>\n",
       "      <td>12424.000000</td>\n",
       "      <td>12424.000000</td>\n",
       "      <td>12424.000000</td>\n",
       "      <td>12424.000000</td>\n",
       "    </tr>\n",
       "    <tr>\n",
       "      <th>mean</th>\n",
       "      <td>0.817271</td>\n",
       "      <td>0.891484</td>\n",
       "      <td>18.439544</td>\n",
       "      <td>1015.656364</td>\n",
       "      <td>6.142259</td>\n",
       "      <td>0.008773</td>\n",
       "    </tr>\n",
       "    <tr>\n",
       "      <th>std</th>\n",
       "      <td>1.682823</td>\n",
       "      <td>0.987634</td>\n",
       "      <td>1.263979</td>\n",
       "      <td>12.716474</td>\n",
       "      <td>0.339152</td>\n",
       "      <td>0.093258</td>\n",
       "    </tr>\n",
       "    <tr>\n",
       "      <th>min</th>\n",
       "      <td>0.000000</td>\n",
       "      <td>0.040000</td>\n",
       "      <td>3.760000</td>\n",
       "      <td>819.220000</td>\n",
       "      <td>4.100000</td>\n",
       "      <td>0.000000</td>\n",
       "    </tr>\n",
       "    <tr>\n",
       "      <th>25%</th>\n",
       "      <td>0.220000</td>\n",
       "      <td>0.660000</td>\n",
       "      <td>17.590000</td>\n",
       "      <td>1010.480000</td>\n",
       "      <td>5.940000</td>\n",
       "      <td>0.000000</td>\n",
       "    </tr>\n",
       "    <tr>\n",
       "      <th>50%</th>\n",
       "      <td>0.300000</td>\n",
       "      <td>0.860000</td>\n",
       "      <td>18.420000</td>\n",
       "      <td>1016.650000</td>\n",
       "      <td>6.020000</td>\n",
       "      <td>0.000000</td>\n",
       "    </tr>\n",
       "    <tr>\n",
       "      <th>75%</th>\n",
       "      <td>0.810000</td>\n",
       "      <td>1.030000</td>\n",
       "      <td>19.240000</td>\n",
       "      <td>1021.870000</td>\n",
       "      <td>6.390000</td>\n",
       "      <td>0.000000</td>\n",
       "    </tr>\n",
       "    <tr>\n",
       "      <th>max</th>\n",
       "      <td>54.820000</td>\n",
       "      <td>30.730000</td>\n",
       "      <td>21.870000</td>\n",
       "      <td>1042.760000</td>\n",
       "      <td>7.330000</td>\n",
       "      <td>1.000000</td>\n",
       "    </tr>\n",
       "  </tbody>\n",
       "</table>\n",
       "</div>"
      ],
      "text/plain": [
       "                CH4           CO2            O2      BaroPres          Batt  \\\n",
       "count  12424.000000  12424.000000  12424.000000  12424.000000  12424.000000   \n",
       "mean       0.817271      0.891484     18.439544   1015.656364      6.142259   \n",
       "std        1.682823      0.987634      1.263979     12.716474      0.339152   \n",
       "min        0.000000      0.040000      3.760000    819.220000      4.100000   \n",
       "25%        0.220000      0.660000     17.590000   1010.480000      5.940000   \n",
       "50%        0.300000      0.860000     18.420000   1016.650000      6.020000   \n",
       "75%        0.810000      1.030000     19.240000   1021.870000      6.390000   \n",
       "max       54.820000     30.730000     21.870000   1042.760000      7.330000   \n",
       "\n",
       "              Label  \n",
       "count  12424.000000  \n",
       "mean       0.008773  \n",
       "std        0.093258  \n",
       "min        0.000000  \n",
       "25%        0.000000  \n",
       "50%        0.000000  \n",
       "75%        0.000000  \n",
       "max        1.000000  "
      ]
     },
     "execution_count": 5,
     "metadata": {},
     "output_type": "execute_result"
    }
   ],
   "source": [
    "df.describe(include='all')"
   ]
  },
  {
   "cell_type": "code",
   "execution_count": 6,
   "metadata": {},
   "outputs": [
    {
     "data": {
      "text/html": [
       "<div>\n",
       "<style scoped>\n",
       "    .dataframe tbody tr th:only-of-type {\n",
       "        vertical-align: middle;\n",
       "    }\n",
       "\n",
       "    .dataframe tbody tr th {\n",
       "        vertical-align: top;\n",
       "    }\n",
       "\n",
       "    .dataframe thead th {\n",
       "        text-align: right;\n",
       "    }\n",
       "</style>\n",
       "<table border=\"1\" class=\"dataframe\">\n",
       "  <thead>\n",
       "    <tr style=\"text-align: right;\">\n",
       "      <th></th>\n",
       "      <th>CH4</th>\n",
       "      <th>CO2</th>\n",
       "      <th>O2</th>\n",
       "      <th>BaroPres</th>\n",
       "      <th>Batt</th>\n",
       "      <th>Label</th>\n",
       "    </tr>\n",
       "  </thead>\n",
       "  <tbody>\n",
       "    <tr>\n",
       "      <th>CH4</th>\n",
       "      <td>1.000000</td>\n",
       "      <td>0.836321</td>\n",
       "      <td>-0.527925</td>\n",
       "      <td>-0.065202</td>\n",
       "      <td>-0.080848</td>\n",
       "      <td>0.182193</td>\n",
       "    </tr>\n",
       "    <tr>\n",
       "      <th>CO2</th>\n",
       "      <td>0.836321</td>\n",
       "      <td>1.000000</td>\n",
       "      <td>-0.672440</td>\n",
       "      <td>-0.040431</td>\n",
       "      <td>-0.251743</td>\n",
       "      <td>0.040961</td>\n",
       "    </tr>\n",
       "    <tr>\n",
       "      <th>O2</th>\n",
       "      <td>-0.527925</td>\n",
       "      <td>-0.672440</td>\n",
       "      <td>1.000000</td>\n",
       "      <td>0.067224</td>\n",
       "      <td>0.620642</td>\n",
       "      <td>-0.089171</td>\n",
       "    </tr>\n",
       "    <tr>\n",
       "      <th>BaroPres</th>\n",
       "      <td>-0.065202</td>\n",
       "      <td>-0.040431</td>\n",
       "      <td>0.067224</td>\n",
       "      <td>1.000000</td>\n",
       "      <td>0.164369</td>\n",
       "      <td>0.000309</td>\n",
       "    </tr>\n",
       "    <tr>\n",
       "      <th>Batt</th>\n",
       "      <td>-0.080848</td>\n",
       "      <td>-0.251743</td>\n",
       "      <td>0.620642</td>\n",
       "      <td>0.164369</td>\n",
       "      <td>1.000000</td>\n",
       "      <td>-0.057813</td>\n",
       "    </tr>\n",
       "    <tr>\n",
       "      <th>Label</th>\n",
       "      <td>0.182193</td>\n",
       "      <td>0.040961</td>\n",
       "      <td>-0.089171</td>\n",
       "      <td>0.000309</td>\n",
       "      <td>-0.057813</td>\n",
       "      <td>1.000000</td>\n",
       "    </tr>\n",
       "  </tbody>\n",
       "</table>\n",
       "</div>"
      ],
      "text/plain": [
       "               CH4       CO2        O2  BaroPres      Batt     Label\n",
       "CH4       1.000000  0.836321 -0.527925 -0.065202 -0.080848  0.182193\n",
       "CO2       0.836321  1.000000 -0.672440 -0.040431 -0.251743  0.040961\n",
       "O2       -0.527925 -0.672440  1.000000  0.067224  0.620642 -0.089171\n",
       "BaroPres -0.065202 -0.040431  0.067224  1.000000  0.164369  0.000309\n",
       "Batt     -0.080848 -0.251743  0.620642  0.164369  1.000000 -0.057813\n",
       "Label     0.182193  0.040961 -0.089171  0.000309 -0.057813  1.000000"
      ]
     },
     "execution_count": 6,
     "metadata": {},
     "output_type": "execute_result"
    }
   ],
   "source": [
    "corrm = df.corr()\n",
    "corrm"
   ]
  },
  {
   "cell_type": "markdown",
   "metadata": {},
   "source": [
    "We can see that CH4 and CO2 are highly (positively) correlated, and CO2 and O2 are highly (negatively) correlated. "
   ]
  },
  {
   "cell_type": "code",
   "execution_count": 7,
   "metadata": {},
   "outputs": [
    {
     "data": {
      "image/png": "[encoded data removed]",
      "text/plain": [
       "<Figure size 1080x360 with 2 Axes>"
      ]
     },
     "metadata": {
      "needs_background": "light"
     },
     "output_type": "display_data"
    }
   ],
   "source": [
    "plt.figure(figsize=(15,5))\n",
    "heatmapdf = sns.heatmap(df.corr(), cmap='coolwarm',annot=True)"
   ]
  },
  {
   "cell_type": "markdown",
   "metadata": {},
   "source": [
    "<!-- We can see that, co2 and ch4 are highly (positively) correlated -->"
   ]
  },
  {
   "cell_type": "code",
   "execution_count": 8,
   "metadata": {},
   "outputs": [
    {
     "data": {
      "text/plain": [
       "Index(['CH4', 'CO2', 'O2', 'BaroPres', 'Batt', 'Label'], dtype='object')"
      ]
     },
     "execution_count": 8,
     "metadata": {},
     "output_type": "execute_result"
    }
   ],
   "source": [
    "df.columns"
   ]
  },
  {
   "cell_type": "markdown",
   "metadata": {},
   "source": [
    "We will use only CO2 data for our training model"
   ]
  },
  {
   "cell_type": "code",
   "execution_count": 9,
   "metadata": {},
   "outputs": [],
   "source": [
    "\n",
    "df.drop(['CH4', 'O2', 'Batt', 'BaroPres'], axis=1, inplace=True)"
   ]
  },
  {
   "cell_type": "code",
   "execution_count": 10,
   "metadata": {},
   "outputs": [
    {
     "data": {
      "text/html": [
       "<div>\n",
       "<style scoped>\n",
       "    .dataframe tbody tr th:only-of-type {\n",
       "        vertical-align: middle;\n",
       "    }\n",
       "\n",
       "    .dataframe tbody tr th {\n",
       "        vertical-align: top;\n",
       "    }\n",
       "\n",
       "    .dataframe thead th {\n",
       "        text-align: right;\n",
       "    }\n",
       "</style>\n",
       "<table border=\"1\" class=\"dataframe\">\n",
       "  <thead>\n",
       "    <tr style=\"text-align: right;\">\n",
       "      <th></th>\n",
       "      <th>CO2</th>\n",
       "      <th>Label</th>\n",
       "    </tr>\n",
       "    <tr>\n",
       "      <th>senseDate</th>\n",
       "      <th></th>\n",
       "      <th></th>\n",
       "    </tr>\n",
       "  </thead>\n",
       "  <tbody>\n",
       "    <tr>\n",
       "      <th>03/30/2016 16:01</th>\n",
       "      <td>0.04</td>\n",
       "      <td>0</td>\n",
       "    </tr>\n",
       "    <tr>\n",
       "      <th>03/30/2016 16:12</th>\n",
       "      <td>0.04</td>\n",
       "      <td>0</td>\n",
       "    </tr>\n",
       "    <tr>\n",
       "      <th>03/30/2016 16:23</th>\n",
       "      <td>0.04</td>\n",
       "      <td>0</td>\n",
       "    </tr>\n",
       "    <tr>\n",
       "      <th>03/30/2016 17:21</th>\n",
       "      <td>0.04</td>\n",
       "      <td>0</td>\n",
       "    </tr>\n",
       "    <tr>\n",
       "      <th>03/30/2016 18:19</th>\n",
       "      <td>0.04</td>\n",
       "      <td>0</td>\n",
       "    </tr>\n",
       "  </tbody>\n",
       "</table>\n",
       "</div>"
      ],
      "text/plain": [
       "                   CO2  Label\n",
       "senseDate                    \n",
       "03/30/2016 16:01  0.04      0\n",
       "03/30/2016 16:12  0.04      0\n",
       "03/30/2016 16:23  0.04      0\n",
       "03/30/2016 17:21  0.04      0\n",
       "03/30/2016 18:19  0.04      0"
      ]
     },
     "execution_count": 10,
     "metadata": {},
     "output_type": "execute_result"
    }
   ],
   "source": [
    "# df.set_index('senseDate', inplace=True)\n",
    "df.head()"
   ]
  },
  {
   "cell_type": "code",
   "execution_count": 11,
   "metadata": {},
   "outputs": [],
   "source": [
    "# plt.plot(df, label='CO2')\n",
    "# plt.legend();"
   ]
  },
  {
   "cell_type": "markdown",
   "metadata": {},
   "source": [
    "## Inferential Statistics\n"
   ]
  },
  {
   "cell_type": "markdown",
   "metadata": {},
   "source": [
    "Let's perform a hypothesis testing,\n",
    "Null Hypothesis: CO2 sensor data  is a normal distribution\n",
    "Alternate Hypothesis: CO2 sensor data  is a normal distribution\n",
    "Significance level alpha is 0.05"
   ]
  },
  {
   "cell_type": "code",
   "execution_count": 12,
   "metadata": {},
   "outputs": [
    {
     "data": {
      "text/plain": [
       "NormaltestResult(statistic=20288.09149080334, pvalue=0.0)"
      ]
     },
     "execution_count": 12,
     "metadata": {},
     "output_type": "execute_result"
    }
   ],
   "source": [
    "from scipy import stats\n",
    "stats.normaltest(df.CO2)"
   ]
  },
  {
   "cell_type": "code",
   "execution_count": 13,
   "metadata": {
    "scrolled": true
   },
   "outputs": [
    {
     "data": {
      "text/plain": [
       "<matplotlib.axes._subplots.AxesSubplot at 0x7ffb4bcf6950>"
      ]
     },
     "execution_count": 13,
     "metadata": {},
     "output_type": "execute_result"
    },
    {
     "data": {
      "image/png": "[encoded data removed]",
      "text/plain": [
       "<Figure size 432x288 with 1 Axes>"
      ]
     },
     "metadata": {
      "needs_background": "light"
     },
     "output_type": "display_data"
    }
   ],
   "source": [
    "sns.distplot(df)"
   ]
  },
  {
   "cell_type": "markdown",
   "metadata": {},
   "source": [
    "Since the value of p is smaller than 0.05 (almost zero), we can  reject the null hypothesis. The data is not normally distributed"
   ]
  },
  {
   "cell_type": "code",
   "execution_count": 33,
   "metadata": {},
   "outputs": [
    {
     "data": {
      "text/html": [
       "<div>\n",
       "<style scoped>\n",
       "    .dataframe tbody tr th:only-of-type {\n",
       "        vertical-align: middle;\n",
       "    }\n",
       "\n",
       "    .dataframe tbody tr th {\n",
       "        vertical-align: top;\n",
       "    }\n",
       "\n",
       "    .dataframe thead th {\n",
       "        text-align: right;\n",
       "    }\n",
       "</style>\n",
       "<table border=\"1\" class=\"dataframe\">\n",
       "  <thead>\n",
       "    <tr style=\"text-align: right;\">\n",
       "      <th></th>\n",
       "      <th>0</th>\n",
       "    </tr>\n",
       "  </thead>\n",
       "  <tbody>\n",
       "    <tr>\n",
       "      <th>0</th>\n",
       "      <td>-0.006101</td>\n",
       "    </tr>\n",
       "    <tr>\n",
       "      <th>1</th>\n",
       "      <td>-0.006101</td>\n",
       "    </tr>\n",
       "    <tr>\n",
       "      <th>2</th>\n",
       "      <td>-0.006101</td>\n",
       "    </tr>\n",
       "    <tr>\n",
       "      <th>3</th>\n",
       "      <td>-0.006101</td>\n",
       "    </tr>\n",
       "    <tr>\n",
       "      <th>4</th>\n",
       "      <td>-0.006101</td>\n",
       "    </tr>\n",
       "  </tbody>\n",
       "</table>\n",
       "</div>"
      ],
      "text/plain": [
       "          0\n",
       "0 -0.006101\n",
       "1 -0.006101\n",
       "2 -0.006101\n",
       "3 -0.006101\n",
       "4 -0.006101"
      ]
     },
     "execution_count": 33,
     "metadata": {},
     "output_type": "execute_result"
    }
   ],
   "source": [
    "from sklearn import preprocessing\n",
    "x_array = np.array(df['CO2'])\n",
    "normalized_X = preprocessing.normalize([x_array])\n",
    "dftest=pd.DataFrame(normalized_X)\n",
    "dftest=dftest.transpose()\n",
    "dftest.head()\n"
   ]
  },
  {
   "cell_type": "code",
   "execution_count": 15,
   "metadata": {},
   "outputs": [
    {
     "data": {
      "text/plain": [
       "NormaltestResult(statistic=array([20288.0914908]), pvalue=array([0.]))"
      ]
     },
     "execution_count": 15,
     "metadata": {},
     "output_type": "execute_result"
    }
   ],
   "source": [
    "stats.normaltest(dftest)"
   ]
  },
  {
   "cell_type": "code",
   "execution_count": 16,
   "metadata": {},
   "outputs": [
    {
     "data": {
      "text/plain": [
       "<matplotlib.axes._subplots.AxesSubplot at 0x7ffb53794f50>"
      ]
     },
     "execution_count": 16,
     "metadata": {},
     "output_type": "execute_result"
    },
    {
     "data": {
      "image/png": "[encoded data removed]",
      "text/plain": [
       "<Figure size 432x288 with 1 Axes>"
      ]
     },
     "metadata": {
      "needs_background": "light"
     },
     "output_type": "display_data"
    }
   ],
   "source": [
    "sns.distplot(dftest)"
   ]
  },
  {
   "cell_type": "code",
   "execution_count": null,
   "metadata": {},
   "outputs": [],
   "source": []
  },
  {
   "cell_type": "code",
   "execution_count": 17,
   "metadata": {},
   "outputs": [
    {
     "name": "stdout",
     "output_type": "stream",
     "text": [
      "(10560, 2) (1864, 2)\n"
     ]
    }
   ],
   "source": [
    "train_size = int(len(df) * 0.85)\n",
    "test_size = len(df) - train_size\n",
    "train, test = df.iloc[0:train_size], df.iloc[train_size:len(df)]\n",
    "print(train.shape, test.shape)"
   ]
  },
  {
   "cell_type": "code",
   "execution_count": 18,
   "metadata": {},
   "outputs": [
    {
     "name": "stderr",
     "output_type": "stream",
     "text": [
      "/opt/anaconda3/lib/python3.7/site-packages/ipykernel_launcher.py:3: SettingWithCopyWarning: \n",
      "A value is trying to be set on a copy of a slice from a DataFrame.\n",
      "Try using .loc[row_indexer,col_indexer] = value instead\n",
      "\n",
      "See the caveats in the documentation: https://pandas.pydata.org/pandas-docs/stable/user_guide/indexing.html#returning-a-view-versus-a-copy\n",
      "  This is separate from the ipykernel package so we can avoid doing imports until\n",
      "/opt/anaconda3/lib/python3.7/site-packages/ipykernel_launcher.py:4: SettingWithCopyWarning: \n",
      "A value is trying to be set on a copy of a slice from a DataFrame.\n",
      "Try using .loc[row_indexer,col_indexer] = value instead\n",
      "\n",
      "See the caveats in the documentation: https://pandas.pydata.org/pandas-docs/stable/user_guide/indexing.html#returning-a-view-versus-a-copy\n",
      "  after removing the cwd from sys.path.\n"
     ]
    }
   ],
   "source": [
    "\n",
    "scaler = StandardScaler()\n",
    "scaler = scaler.fit(train[['CO2']])\n",
    "train['CO2'] = scaler.transform(train[['CO2']])\n",
    "test['CO2'] = scaler.transform(test[['CO2']])"
   ]
  },
  {
   "cell_type": "code",
   "execution_count": 19,
   "metadata": {},
   "outputs": [],
   "source": [
    "def create_dataset(X, y, time_steps=1):\n",
    "    Xs, ys = [], []\n",
    "    for i in range(len(X) - time_steps):\n",
    "        v = X.iloc[i:(i + time_steps)].values\n",
    "        Xs.append(v)\n",
    "        ys.append(y.iloc[i + time_steps])\n",
    "    return np.array(Xs), np.array(ys)"
   ]
  },
  {
   "cell_type": "markdown",
   "metadata": {},
   "source": [
    "Let's create sequences with 10 days worth of historical data:"
   ]
  },
  {
   "cell_type": "code",
   "execution_count": 41,
   "metadata": {},
   "outputs": [
    {
     "name": "stdout",
     "output_type": "stream",
     "text": [
      "(10550, 10, 1)\n"
     ]
    }
   ],
   "source": [
    "TIME_STEPS = 10\n",
    "# reshape to [samples, time_steps, n_features]\n",
    "X_train, y_train = create_dataset(train[['CO2']],train.Label,TIME_STEPS)\n",
    "X_test, y_test = create_dataset(test[['CO2']],test.Label,TIME_STEPS)\n",
    "print(X_train.shape)"
   ]
  },
  {
   "cell_type": "code",
   "execution_count": null,
   "metadata": {},
   "outputs": [],
   "source": []
  },
  {
   "cell_type": "code",
   "execution_count": 42,
   "metadata": {},
   "outputs": [],
   "source": [
    "\n",
    "model = keras.Sequential()\n",
    "model.add(keras.layers.LSTM(units=64,input_shape=(X_train.shape[1], X_train.shape[2])))\n",
    "model.add(keras.layers.Dropout(rate=0.2))\n",
    "model.add(keras.layers.RepeatVector(n=X_train.shape[1]))\n",
    "model.add(keras.layers.LSTM(units=64, return_sequences=True))\n",
    "model.add(keras.layers.Dropout(rate=0.2))\n",
    "model.add(keras.layers.TimeDistributed(keras.layers.Dense(units=X_train.shape[2])))\n",
    "model.compile(loss='mae', optimizer='adam')"
   ]
  },
  {
   "cell_type": "code",
   "execution_count": 43,
   "metadata": {},
   "outputs": [
    {
     "name": "stdout",
     "output_type": "stream",
     "text": [
      "Epoch 1/10\n",
      "297/297 [==============================] - 3s 11ms/step - loss: 0.0100 - val_loss: 0.0031\n",
      "Epoch 2/10\n",
      "297/297 [==============================] - 3s 9ms/step - loss: 0.0024 - val_loss: 0.0030\n",
      "Epoch 3/10\n",
      "297/297 [==============================] - 3s 9ms/step - loss: 0.0015 - val_loss: 0.0033\n",
      "Epoch 4/10\n",
      "297/297 [==============================] - 3s 8ms/step - loss: 7.6694e-04 - val_loss: 0.0029\n",
      "Epoch 5/10\n",
      "297/297 [==============================] - 3s 9ms/step - loss: 5.4442e-04 - val_loss: 0.0030\n",
      "Epoch 6/10\n",
      "297/297 [==============================] - 3s 8ms/step - loss: 3.6094e-04 - val_loss: 0.0030\n",
      "Epoch 7/10\n",
      "297/297 [==============================] - 3s 9ms/step - loss: 2.1353e-04 - val_loss: 0.0032\n",
      "Epoch 8/10\n",
      "297/297 [==============================] - 3s 9ms/step - loss: 2.0614e-04 - val_loss: 0.0031\n",
      "Epoch 9/10\n",
      "297/297 [==============================] - 3s 9ms/step - loss: 2.3232e-04 - val_loss: 0.0031\n",
      "Epoch 10/10\n",
      "297/297 [==============================] - 3s 9ms/step - loss: 1.5518e-04 - val_loss: 0.0030\n"
     ]
    }
   ],
   "source": [
    "history = model.fit(X_train, y_train,epochs=10,batch_size=32,validation_split=0.1,shuffle=False)"
   ]
  },
  {
   "cell_type": "code",
   "execution_count": 44,
   "metadata": {},
   "outputs": [
    {
     "data": {
      "image/png": "[encoded data removed]",
      "text/plain": [
       "<Figure size 432x288 with 1 Axes>"
      ]
     },
     "metadata": {
      "needs_background": "light"
     },
     "output_type": "display_data"
    }
   ],
   "source": [
    "# compare the trian test error\n",
    "\n",
    "plt.plot(history.history['loss'], label='train')\n",
    "plt.plot(history.history['val_loss'], label='test')\n",
    "plt.legend();"
   ]
  },
  {
   "cell_type": "markdown",
   "metadata": {},
   "source": [
    "Let’s calculate the Mean Absolute Error (MAE) on the training data:"
   ]
  },
  {
   "cell_type": "code",
   "execution_count": 45,
   "metadata": {},
   "outputs": [],
   "source": [
    "X_train_pred = model.predict(X_train)\n",
    "train_mae_loss = np.mean(np.abs(X_train_pred - X_train), axis=1)"
   ]
  },
  {
   "cell_type": "code",
   "execution_count": 46,
   "metadata": {},
   "outputs": [
    {
     "data": {
      "image/png": "[encoded data removed]",
      "text/plain": [
       "<Figure size 432x288 with 1 Axes>"
      ]
     },
     "metadata": {
      "needs_background": "light"
     },
     "output_type": "display_data"
    }
   ],
   "source": [
    "\n",
    "sns.distplot(train_mae_loss, bins=50);"
   ]
  },
  {
   "cell_type": "code",
   "execution_count": 47,
   "metadata": {},
   "outputs": [
    {
     "name": "stdout",
     "output_type": "stream",
     "text": [
      "58/58 [==============================] - 0s 3ms/step - loss: 0.0574\n",
      "test loss and test accuracy: 0.057364583015441895\n"
     ]
    }
   ],
   "source": [
    "print('test loss and test accuracy:', model.evaluate(X_test,y_test))"
   ]
  },
  {
   "cell_type": "markdown",
   "metadata": {},
   "source": [
    "Let's pick a threshold of 0.6\n",
    "Above this will be categorized as anomaly"
   ]
  },
  {
   "cell_type": "code",
   "execution_count": 48,
   "metadata": {},
   "outputs": [],
   "source": [
    "th=0.6\n",
    "# calculate the error on test data\n",
    "X_test_pred = model.predict(X_test)\n",
    "test_mae_loss = np.mean(np.abs(X_test_pred - X_test), axis=1)"
   ]
  },
  {
   "cell_type": "code",
   "execution_count": 49,
   "metadata": {},
   "outputs": [],
   "source": [
    "# create a new dataframe containing of loss and errors above threshold\n",
    "test_score_df = pd.DataFrame(index=test[TIME_STEPS:].index)\n",
    "test_score_df['loss'] = test_mae_loss\n",
    "test_score_df['threshold'] = th\n",
    "test_score_df['anomaly'] = test_score_df.loss > test_score_df.threshold\n",
    "test_score_df['CO2'] = test[TIME_STEPS:].CO2"
   ]
  },
  {
   "cell_type": "code",
   "execution_count": 50,
   "metadata": {},
   "outputs": [
    {
     "data": {
      "text/html": [
       "<div>\n",
       "<style scoped>\n",
       "    .dataframe tbody tr th:only-of-type {\n",
       "        vertical-align: middle;\n",
       "    }\n",
       "\n",
       "    .dataframe tbody tr th {\n",
       "        vertical-align: top;\n",
       "    }\n",
       "\n",
       "    .dataframe thead th {\n",
       "        text-align: right;\n",
       "    }\n",
       "</style>\n",
       "<table border=\"1\" class=\"dataframe\">\n",
       "  <thead>\n",
       "    <tr style=\"text-align: right;\">\n",
       "      <th></th>\n",
       "      <th>loss</th>\n",
       "      <th>threshold</th>\n",
       "      <th>anomaly</th>\n",
       "      <th>CO2</th>\n",
       "    </tr>\n",
       "    <tr>\n",
       "      <th>senseDate</th>\n",
       "      <th></th>\n",
       "      <th></th>\n",
       "      <th></th>\n",
       "      <th></th>\n",
       "    </tr>\n",
       "  </thead>\n",
       "  <tbody>\n",
       "    <tr>\n",
       "      <th>08/25/2017 19:37</th>\n",
       "      <td>0.834139</td>\n",
       "      <td>0.6</td>\n",
       "      <td>True</td>\n",
       "      <td>0.993584</td>\n",
       "    </tr>\n",
       "    <tr>\n",
       "      <th>08/25/2017 20:38</th>\n",
       "      <td>0.808481</td>\n",
       "      <td>0.6</td>\n",
       "      <td>True</td>\n",
       "      <td>1.022092</td>\n",
       "    </tr>\n",
       "    <tr>\n",
       "      <th>08/25/2017 21:38</th>\n",
       "      <td>0.817033</td>\n",
       "      <td>0.6</td>\n",
       "      <td>True</td>\n",
       "      <td>1.022092</td>\n",
       "    </tr>\n",
       "    <tr>\n",
       "      <th>08/25/2017 22:39</th>\n",
       "      <td>0.842688</td>\n",
       "      <td>0.6</td>\n",
       "      <td>True</td>\n",
       "      <td>1.050599</td>\n",
       "    </tr>\n",
       "    <tr>\n",
       "      <th>08/25/2017 23:40</th>\n",
       "      <td>0.871195</td>\n",
       "      <td>0.6</td>\n",
       "      <td>True</td>\n",
       "      <td>1.022092</td>\n",
       "    </tr>\n",
       "  </tbody>\n",
       "</table>\n",
       "</div>"
      ],
      "text/plain": [
       "                      loss  threshold  anomaly       CO2\n",
       "senseDate                                               \n",
       "08/25/2017 19:37  0.834139        0.6     True  0.993584\n",
       "08/25/2017 20:38  0.808481        0.6     True  1.022092\n",
       "08/25/2017 21:38  0.817033        0.6     True  1.022092\n",
       "08/25/2017 22:39  0.842688        0.6     True  1.050599\n",
       "08/25/2017 23:40  0.871195        0.6     True  1.022092"
      ]
     },
     "execution_count": 50,
     "metadata": {},
     "output_type": "execute_result"
    }
   ],
   "source": [
    "test_score_df.head()"
   ]
  },
  {
   "cell_type": "code",
   "execution_count": 51,
   "metadata": {},
   "outputs": [
    {
     "data": {
      "image/png": "[encoded data removed]",
      "text/plain": [
       "<Figure size 432x288 with 1 Axes>"
      ]
     },
     "metadata": {
      "needs_background": "light"
     },
     "output_type": "display_data"
    }
   ],
   "source": [
    "plt.plot(test_score_df.index, test_score_df.loss, label='loss')\n",
    "plt.plot(test_score_df.index, test_score_df.threshold, label='threshold')\n",
    "plt.xticks(rotation=25)\n",
    "plt.legend();"
   ]
  },
  {
   "cell_type": "code",
   "execution_count": 52,
   "metadata": {},
   "outputs": [
    {
     "data": {
      "text/html": [
       "<div>\n",
       "<style scoped>\n",
       "    .dataframe tbody tr th:only-of-type {\n",
       "        vertical-align: middle;\n",
       "    }\n",
       "\n",
       "    .dataframe tbody tr th {\n",
       "        vertical-align: top;\n",
       "    }\n",
       "\n",
       "    .dataframe thead th {\n",
       "        text-align: right;\n",
       "    }\n",
       "</style>\n",
       "<table border=\"1\" class=\"dataframe\">\n",
       "  <thead>\n",
       "    <tr style=\"text-align: right;\">\n",
       "      <th></th>\n",
       "      <th>loss</th>\n",
       "      <th>threshold</th>\n",
       "      <th>anomaly</th>\n",
       "      <th>CO2</th>\n",
       "    </tr>\n",
       "    <tr>\n",
       "      <th>senseDate</th>\n",
       "      <th></th>\n",
       "      <th></th>\n",
       "      <th></th>\n",
       "      <th></th>\n",
       "    </tr>\n",
       "  </thead>\n",
       "  <tbody>\n",
       "    <tr>\n",
       "      <th>08/25/2017 19:37</th>\n",
       "      <td>0.834139</td>\n",
       "      <td>0.6</td>\n",
       "      <td>True</td>\n",
       "      <td>0.993584</td>\n",
       "    </tr>\n",
       "    <tr>\n",
       "      <th>08/25/2017 20:38</th>\n",
       "      <td>0.808481</td>\n",
       "      <td>0.6</td>\n",
       "      <td>True</td>\n",
       "      <td>1.022092</td>\n",
       "    </tr>\n",
       "    <tr>\n",
       "      <th>08/25/2017 21:38</th>\n",
       "      <td>0.817033</td>\n",
       "      <td>0.6</td>\n",
       "      <td>True</td>\n",
       "      <td>1.022092</td>\n",
       "    </tr>\n",
       "    <tr>\n",
       "      <th>08/25/2017 22:39</th>\n",
       "      <td>0.842688</td>\n",
       "      <td>0.6</td>\n",
       "      <td>True</td>\n",
       "      <td>1.050599</td>\n",
       "    </tr>\n",
       "    <tr>\n",
       "      <th>08/25/2017 23:40</th>\n",
       "      <td>0.871195</td>\n",
       "      <td>0.6</td>\n",
       "      <td>True</td>\n",
       "      <td>1.022092</td>\n",
       "    </tr>\n",
       "    <tr>\n",
       "      <th>...</th>\n",
       "      <td>...</td>\n",
       "      <td>...</td>\n",
       "      <td>...</td>\n",
       "      <td>...</td>\n",
       "    </tr>\n",
       "    <tr>\n",
       "      <th>11/17/2017 07:55</th>\n",
       "      <td>1.113503</td>\n",
       "      <td>0.6</td>\n",
       "      <td>True</td>\n",
       "      <td>1.392691</td>\n",
       "    </tr>\n",
       "    <tr>\n",
       "      <th>11/17/2017 10:01</th>\n",
       "      <td>1.156264</td>\n",
       "      <td>0.6</td>\n",
       "      <td>True</td>\n",
       "      <td>1.364183</td>\n",
       "    </tr>\n",
       "    <tr>\n",
       "      <th>11/17/2017 12:05</th>\n",
       "      <td>1.210427</td>\n",
       "      <td>0.6</td>\n",
       "      <td>True</td>\n",
       "      <td>1.193137</td>\n",
       "    </tr>\n",
       "    <tr>\n",
       "      <th>11/17/2017 14:11</th>\n",
       "      <td>1.256040</td>\n",
       "      <td>0.6</td>\n",
       "      <td>True</td>\n",
       "      <td>1.050599</td>\n",
       "    </tr>\n",
       "    <tr>\n",
       "      <th>11/17/2017 16:17</th>\n",
       "      <td>1.258892</td>\n",
       "      <td>0.6</td>\n",
       "      <td>True</td>\n",
       "      <td>0.993584</td>\n",
       "    </tr>\n",
       "  </tbody>\n",
       "</table>\n",
       "<p>1515 rows × 4 columns</p>\n",
       "</div>"
      ],
      "text/plain": [
       "                      loss  threshold  anomaly       CO2\n",
       "senseDate                                               \n",
       "08/25/2017 19:37  0.834139        0.6     True  0.993584\n",
       "08/25/2017 20:38  0.808481        0.6     True  1.022092\n",
       "08/25/2017 21:38  0.817033        0.6     True  1.022092\n",
       "08/25/2017 22:39  0.842688        0.6     True  1.050599\n",
       "08/25/2017 23:40  0.871195        0.6     True  1.022092\n",
       "...                    ...        ...      ...       ...\n",
       "11/17/2017 07:55  1.113503        0.6     True  1.392691\n",
       "11/17/2017 10:01  1.156264        0.6     True  1.364183\n",
       "11/17/2017 12:05  1.210427        0.6     True  1.193137\n",
       "11/17/2017 14:11  1.256040        0.6     True  1.050599\n",
       "11/17/2017 16:17  1.258892        0.6     True  0.993584\n",
       "\n",
       "[1515 rows x 4 columns]"
      ]
     },
     "execution_count": 52,
     "metadata": {},
     "output_type": "execute_result"
    }
   ],
   "source": [
    "\n",
    "anomalies = test_score_df[test_score_df.anomaly == True]\n",
    "anomalies"
   ]
  },
  {
   "cell_type": "code",
   "execution_count": 53,
   "metadata": {},
   "outputs": [
    {
     "data": {
      "image/png": "[encoded data removed]",
      "text/plain": [
       "<Figure size 432x288 with 1 Axes>"
      ]
     },
     "metadata": {
      "needs_background": "light"
     },
     "output_type": "display_data"
    }
   ],
   "source": [
    "plt.plot(test[TIME_STEPS:].index, scaler.inverse_transform(test[TIME_STEPS:].CO2), label='CO2');\n",
    "# plt.figure(figsize=(15,8))\n",
    "sns.scatterplot(anomalies.index,scaler.inverse_transform(anomalies.CO2),color=sns.color_palette()[3],s=30, label='anomaly')\n",
    "plt.xticks(rotation=25)\n",
    "plt.legend();"
   ]
  },
  {
   "cell_type": "markdown",
   "metadata": {},
   "source": [
    "## Precision-Recall Curve"
   ]
  },
  {
   "cell_type": "code",
   "execution_count": 63,
   "metadata": {},
   "outputs": [
    {
     "data": {
      "text/plain": [
       "array([0, 0, 0, ..., 0, 0, 1])"
      ]
     },
     "execution_count": 63,
     "metadata": {},
     "output_type": "execute_result"
    }
   ],
   "source": [
    "y_train"
   ]
  },
  {
   "cell_type": "code",
   "execution_count": 60,
   "metadata": {},
   "outputs": [
    {
     "ename": "ValueError",
     "evalue": "Found array with dim 3. Estimator expected <= 2.",
     "output_type": "error",
     "traceback": [
      "\u001b[0;31m---------------------------------------------------------------------------\u001b[0m",
      "\u001b[0;31mValueError\u001b[0m                                Traceback (most recent call last)",
      "\u001b[0;32m<ipython-input-60-ff57cb0f0666>\u001b[0m in \u001b[0;36m<module>\u001b[0;34m\u001b[0m\n\u001b[1;32m      4\u001b[0m \u001b[0;31m# plot_precision_recall(precision, recall, thresholds)\u001b[0m\u001b[0;34m\u001b[0m\u001b[0;34m\u001b[0m\u001b[0;34m\u001b[0m\u001b[0m\n\u001b[1;32m      5\u001b[0m \u001b[0;34m\u001b[0m\u001b[0m\n\u001b[0;32m----> 6\u001b[0;31m \u001b[0mroc_auc_score\u001b[0m\u001b[0;34m(\u001b[0m\u001b[0my_train\u001b[0m\u001b[0;34m,\u001b[0m \u001b[0mX_train_pred\u001b[0m\u001b[0;34m)\u001b[0m\u001b[0;34m\u001b[0m\u001b[0;34m\u001b[0m\u001b[0m\n\u001b[0m",
      "\u001b[0;32m/opt/anaconda3/lib/python3.7/site-packages/sklearn/metrics/_ranking.py\u001b[0m in \u001b[0;36mroc_auc_score\u001b[0;34m(y_true, y_score, average, sample_weight, max_fpr, multi_class, labels)\u001b[0m\n\u001b[1;32m    367\u001b[0m     \u001b[0my_type\u001b[0m \u001b[0;34m=\u001b[0m \u001b[0mtype_of_target\u001b[0m\u001b[0;34m(\u001b[0m\u001b[0my_true\u001b[0m\u001b[0;34m)\u001b[0m\u001b[0;34m\u001b[0m\u001b[0;34m\u001b[0m\u001b[0m\n\u001b[1;32m    368\u001b[0m     \u001b[0my_true\u001b[0m \u001b[0;34m=\u001b[0m \u001b[0mcheck_array\u001b[0m\u001b[0;34m(\u001b[0m\u001b[0my_true\u001b[0m\u001b[0;34m,\u001b[0m \u001b[0mensure_2d\u001b[0m\u001b[0;34m=\u001b[0m\u001b[0;32mFalse\u001b[0m\u001b[0;34m,\u001b[0m \u001b[0mdtype\u001b[0m\u001b[0;34m=\u001b[0m\u001b[0;32mNone\u001b[0m\u001b[0;34m)\u001b[0m\u001b[0;34m\u001b[0m\u001b[0;34m\u001b[0m\u001b[0m\n\u001b[0;32m--> 369\u001b[0;31m     \u001b[0my_score\u001b[0m \u001b[0;34m=\u001b[0m \u001b[0mcheck_array\u001b[0m\u001b[0;34m(\u001b[0m\u001b[0my_score\u001b[0m\u001b[0;34m,\u001b[0m \u001b[0mensure_2d\u001b[0m\u001b[0;34m=\u001b[0m\u001b[0;32mFalse\u001b[0m\u001b[0;34m)\u001b[0m\u001b[0;34m\u001b[0m\u001b[0;34m\u001b[0m\u001b[0m\n\u001b[0m\u001b[1;32m    370\u001b[0m \u001b[0;34m\u001b[0m\u001b[0m\n\u001b[1;32m    371\u001b[0m     if y_type == \"multiclass\" or (y_type == \"binary\" and\n",
      "\u001b[0;32m/opt/anaconda3/lib/python3.7/site-packages/sklearn/utils/validation.py\u001b[0m in \u001b[0;36mcheck_array\u001b[0;34m(array, accept_sparse, accept_large_sparse, dtype, order, copy, force_all_finite, ensure_2d, allow_nd, ensure_min_samples, ensure_min_features, warn_on_dtype, estimator)\u001b[0m\n\u001b[1;32m    572\u001b[0m         \u001b[0;32mif\u001b[0m \u001b[0;32mnot\u001b[0m \u001b[0mallow_nd\u001b[0m \u001b[0;32mand\u001b[0m \u001b[0marray\u001b[0m\u001b[0;34m.\u001b[0m\u001b[0mndim\u001b[0m \u001b[0;34m>=\u001b[0m \u001b[0;36m3\u001b[0m\u001b[0;34m:\u001b[0m\u001b[0;34m\u001b[0m\u001b[0;34m\u001b[0m\u001b[0m\n\u001b[1;32m    573\u001b[0m             raise ValueError(\"Found array with dim %d. %s expected <= 2.\"\n\u001b[0;32m--> 574\u001b[0;31m                              % (array.ndim, estimator_name))\n\u001b[0m\u001b[1;32m    575\u001b[0m \u001b[0;34m\u001b[0m\u001b[0m\n\u001b[1;32m    576\u001b[0m         \u001b[0;32mif\u001b[0m \u001b[0mforce_all_finite\u001b[0m\u001b[0;34m:\u001b[0m\u001b[0;34m\u001b[0m\u001b[0;34m\u001b[0m\u001b[0m\n",
      "\u001b[0;31mValueError\u001b[0m: Found array with dim 3. Estimator expected <= 2."
     ]
    }
   ],
   "source": [
    "from sklearn.metrics import precision_recall_curve, roc_auc_score\n",
    "\n",
    "# precision, recall, thresholds = precision_recall_curve(y_train, model.predict_proba(X_train)[:,1], pos_label=1)\n",
    "# plot_precision_recall(precision, recall, thresholds)\n",
    "\n",
    "roc_auc_score(y_train, X_train_pred)\n"
   ]
  },
  {
   "cell_type": "code",
   "execution_count": null,
   "metadata": {},
   "outputs": [],
   "source": []
  }
 ],
 "metadata": {
  "kernelspec": {
   "display_name": "Python 3",
   "language": "python",
   "name": "python3"
  },
  "language_info": {
   "codemirror_mode": {
    "name": "ipython",
    "version": 3
   },
   "file_extension": ".py",
   "mimetype": "text/x-python",
   "name": "python",
   "nbconvert_exporter": "python",
   "pygments_lexer": "ipython3",
   "version": "3.7.6"
  }
 },
 "nbformat": 4,
 "nbformat_minor": 4
}
