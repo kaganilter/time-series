{
 "cells": [
  {
   "cell_type": "markdown",
   "metadata": {},
   "source": [
    "### Introduction"
   ]
  },
  {
   "cell_type": "markdown",
   "metadata": {},
   "source": [
    "\n",
    "Anomaly detection is the task of finding/identifying unexpected events/data points which differ from the normal behaviour. In general, anomally detection is applied on unlabelled data with an unsupervised model. \n",
    "\n",
    "Adopting simple anomaly approaches to a time series data could  be more difficult because in time series data large number of false anomalies are generated, some methods are not applicable to changing data values and simple approaches may not easily scale arge time series.\n",
    "\n",
    "There are a lot of approaches for outlier detection. Some of them are: \n",
    "\n",
    "Principal Component Analysis (procedure which transforms some (possibly) correlated variables into a smaller number of uncorrelated variables. )\n",
    "\n",
    "Minimum Covariance Determinant (specifies an ellipsoid the circumscribes the primary dimensions of the data in N-space)\n",
    "\n",
    "One-Class Support Vector Machine (OCSVM)(to train a classification model that can distinguish normal data from outliers)\n",
    "\n",
    "Cluster-based Local Outlier Factor (first cluster the dataset using the k-means algorithm and then use the distance from the data instance to the centroid )\n",
    "\n",
    "Histogram-based Outlier Score (creates a histogram with a fixed or a dynamic binwidth with which it calculates an outlier score)\n",
    "\n",
    "K-Nearest Neighbours (the normal points have close neighbours while anomalies are situated far from other points)\n",
    "\n",
    "Angle-based Outlier Detection (ABOD) (the angles are more stable than distances in a high dimensional space)\n",
    "\n",
    "Isolation Forest (instead of profiling normal data points, it explicitly determines the anomalous data points.The outliers are identified closer to the root of a tree with fewer splits using random sampling)\n",
    "\n",
    "Feature Bagging and Autoencoders (Outlier detection is executed in several random feature subsets (subspaces). Then, Combine results in an ensemble)\n",
    "\n",
    "Autoencoders: an artificial neural network that learns from the representation (encoding) for a set of data points.\n"
   ]
  },
  {
   "cell_type": "markdown",
   "metadata": {},
   "source": [
    "### Summary of the Project\n",
    "\n",
    "In this project, I will try to detect the anomalies in a smart home-security system consisting of 12 sensors (receiving info of temperature, humidity, CO2 level) that create continues time series data in every 10 minutes (real data is from an IoT-acquired landfill site sensor data, Ambisense Ltd. Dublin)\n",
    "\n",
    " When there is an excessive deviation of the value from the mean, at that point we can consider this data point as anomalous.Relatively impossible values in the sensor data stream can be thought as anomalous. Since we are dealing with time series data, it is difficult to find a one fit all solution for the problem that we are addressing.\n",
    "\n",
    "I will use an LSTM Autoencoder Neural Network to detect/predict anomalies in the historical sensor data. It is an anomally detection technique that analyzes the degree to which incoming data is different than data that the data you used to train the neural network. An autoencoder has two parts: an encoder and the decoder.The output layer has the same number nodes as that of the input layer and an autoencoder is trained to reconstruct its own inputs. Autoencoders aim at reducing feature space and keeping essential features.\n",
    "\n",
    "In this project, after data preprocessing and explaratory data analysis (EDA), I will create a recurrent neural network model First, autoencoders will be trained on train data with regularization, then i will evaluate the model on the validation set with visualizing the error plot. After evaluating the errors, there is a need to create a threshold function. Then classify the values above/below the threshold lines as anomalies.\n",
    "\n"
   ]
  },
  {
   "cell_type": "markdown",
   "metadata": {},
   "source": [
    "## Read and Preprocess"
   ]
  },
  {
   "cell_type": "code",
   "execution_count": 1,
   "metadata": {},
   "outputs": [],
   "source": [
    "import pandas as pd\n",
    "from sklearn.preprocessing import StandardScaler\n",
    "import numpy as np\n",
    "\n",
    "import tensorflow as tf\n",
    "from tensorflow.keras.models import Sequential\n",
    "from tensorflow.keras.layers import Dense, Activation\n",
    "import keras\n",
    "import seaborn as sns\n",
    "import matplotlib.pyplot as plt\n",
    "# from fbprophet import Prophet\n",
    "# from fbprophet.plot import plot_plotly\n"
   ]
  },
  {
   "cell_type": "code",
   "execution_count": 2,
   "metadata": {},
   "outputs": [],
   "source": [
    "df=pd.read_csv('BH2S.csv', index_col=0)"
   ]
  },
  {
   "cell_type": "code",
   "execution_count": 3,
   "metadata": {},
   "outputs": [
    {
     "data": {
      "text/html": [
       "<div>\n",
       "<style scoped>\n",
       "    .dataframe tbody tr th:only-of-type {\n",
       "        vertical-align: middle;\n",
       "    }\n",
       "\n",
       "    .dataframe tbody tr th {\n",
       "        vertical-align: top;\n",
       "    }\n",
       "\n",
       "    .dataframe thead th {\n",
       "        text-align: right;\n",
       "    }\n",
       "</style>\n",
       "<table border=\"1\" class=\"dataframe\">\n",
       "  <thead>\n",
       "    <tr style=\"text-align: right;\">\n",
       "      <th></th>\n",
       "      <th>senseDate</th>\n",
       "      <th>CH4</th>\n",
       "      <th>CO2</th>\n",
       "      <th>O2</th>\n",
       "      <th>Temp</th>\n",
       "      <th>Humidity</th>\n",
       "      <th>PumpPres</th>\n",
       "      <th>GaugePres</th>\n",
       "      <th>BaroPres</th>\n",
       "    </tr>\n",
       "  </thead>\n",
       "  <tbody>\n",
       "    <tr>\n",
       "      <th>0</th>\n",
       "      <td>3/30/2016 16:55</td>\n",
       "      <td>0.17</td>\n",
       "      <td>0.12</td>\n",
       "      <td>21.01</td>\n",
       "      <td>15.78</td>\n",
       "      <td>54.37</td>\n",
       "      <td>-25.18</td>\n",
       "      <td>0.24</td>\n",
       "      <td>1007.31</td>\n",
       "    </tr>\n",
       "    <tr>\n",
       "      <th>1</th>\n",
       "      <td>3/30/2016 17:06</td>\n",
       "      <td>0.16</td>\n",
       "      <td>0.13</td>\n",
       "      <td>20.83</td>\n",
       "      <td>14.25</td>\n",
       "      <td>57.39</td>\n",
       "      <td>-25.22</td>\n",
       "      <td>0.00</td>\n",
       "      <td>1007.79</td>\n",
       "    </tr>\n",
       "    <tr>\n",
       "      <th>2</th>\n",
       "      <td>3/30/2016 18:03</td>\n",
       "      <td>0.13</td>\n",
       "      <td>0.13</td>\n",
       "      <td>20.61</td>\n",
       "      <td>11.48</td>\n",
       "      <td>72.91</td>\n",
       "      <td>-25.57</td>\n",
       "      <td>0.00</td>\n",
       "      <td>1008.26</td>\n",
       "    </tr>\n",
       "    <tr>\n",
       "      <th>3</th>\n",
       "      <td>3/30/2016 19:01</td>\n",
       "      <td>0.16</td>\n",
       "      <td>0.14</td>\n",
       "      <td>20.53</td>\n",
       "      <td>10.09</td>\n",
       "      <td>69.12</td>\n",
       "      <td>-25.36</td>\n",
       "      <td>0.00</td>\n",
       "      <td>1008.74</td>\n",
       "    </tr>\n",
       "    <tr>\n",
       "      <th>4</th>\n",
       "      <td>3/30/2016 19:59</td>\n",
       "      <td>0.16</td>\n",
       "      <td>0.14</td>\n",
       "      <td>20.37</td>\n",
       "      <td>7.56</td>\n",
       "      <td>71.46</td>\n",
       "      <td>-25.78</td>\n",
       "      <td>0.00</td>\n",
       "      <td>1009.70</td>\n",
       "    </tr>\n",
       "  </tbody>\n",
       "</table>\n",
       "</div>"
      ],
      "text/plain": [
       "         senseDate   CH4   CO2     O2   Temp  Humidity  PumpPres  GaugePres  \\\n",
       "0  3/30/2016 16:55  0.17  0.12  21.01  15.78     54.37    -25.18       0.24   \n",
       "1  3/30/2016 17:06  0.16  0.13  20.83  14.25     57.39    -25.22       0.00   \n",
       "2  3/30/2016 18:03  0.13  0.13  20.61  11.48     72.91    -25.57       0.00   \n",
       "3  3/30/2016 19:01  0.16  0.14  20.53  10.09     69.12    -25.36       0.00   \n",
       "4  3/30/2016 19:59  0.16  0.14  20.37   7.56     71.46    -25.78       0.00   \n",
       "\n",
       "   BaroPres  \n",
       "0   1007.31  \n",
       "1   1007.79  \n",
       "2   1008.26  \n",
       "3   1008.74  \n",
       "4   1009.70  "
      ]
     },
     "execution_count": 3,
     "metadata": {},
     "output_type": "execute_result"
    }
   ],
   "source": [
    "df.head()"
   ]
  },
  {
   "cell_type": "code",
   "execution_count": 4,
   "metadata": {},
   "outputs": [
    {
     "name": "stdout",
     "output_type": "stream",
     "text": [
      "<class 'pandas.core.frame.DataFrame'>\n",
      "Int64Index: 13031 entries, 0 to 13030\n",
      "Data columns (total 9 columns):\n",
      " #   Column     Non-Null Count  Dtype  \n",
      "---  ------     --------------  -----  \n",
      " 0   senseDate  13031 non-null  object \n",
      " 1   CH4        13024 non-null  float64\n",
      " 2   CO2        13031 non-null  float64\n",
      " 3   O2         13031 non-null  float64\n",
      " 4   Temp       13031 non-null  float64\n",
      " 5   Humidity   13031 non-null  float64\n",
      " 6   PumpPres   13031 non-null  float64\n",
      " 7   GaugePres  13031 non-null  float64\n",
      " 8   BaroPres   13031 non-null  float64\n",
      "dtypes: float64(8), object(1)\n",
      "memory usage: 1018.0+ KB\n"
     ]
    }
   ],
   "source": [
    "df.info()"
   ]
  },
  {
   "cell_type": "code",
   "execution_count": 5,
   "metadata": {},
   "outputs": [],
   "source": [
    "df.senseDate=pd.to_datetime(df.senseDate)"
   ]
  },
  {
   "cell_type": "code",
   "execution_count": 6,
   "metadata": {},
   "outputs": [
    {
     "name": "stdout",
     "output_type": "stream",
     "text": [
      "<class 'pandas.core.frame.DataFrame'>\n",
      "Int64Index: 13031 entries, 0 to 13030\n",
      "Data columns (total 9 columns):\n",
      " #   Column     Non-Null Count  Dtype         \n",
      "---  ------     --------------  -----         \n",
      " 0   senseDate  13031 non-null  datetime64[ns]\n",
      " 1   CH4        13024 non-null  float64       \n",
      " 2   CO2        13031 non-null  float64       \n",
      " 3   O2         13031 non-null  float64       \n",
      " 4   Temp       13031 non-null  float64       \n",
      " 5   Humidity   13031 non-null  float64       \n",
      " 6   PumpPres   13031 non-null  float64       \n",
      " 7   GaugePres  13031 non-null  float64       \n",
      " 8   BaroPres   13031 non-null  float64       \n",
      "dtypes: datetime64[ns](1), float64(8)\n",
      "memory usage: 1018.0 KB\n"
     ]
    }
   ],
   "source": [
    "df.info()"
   ]
  },
  {
   "cell_type": "markdown",
   "metadata": {},
   "source": [
    "Before we can feed data into the neural network we must perform some preprocessing. "
   ]
  },
  {
   "cell_type": "code",
   "execution_count": 7,
   "metadata": {},
   "outputs": [
    {
     "data": {
      "text/html": [
       "<div>\n",
       "<style scoped>\n",
       "    .dataframe tbody tr th:only-of-type {\n",
       "        vertical-align: middle;\n",
       "    }\n",
       "\n",
       "    .dataframe tbody tr th {\n",
       "        vertical-align: top;\n",
       "    }\n",
       "\n",
       "    .dataframe thead th {\n",
       "        text-align: right;\n",
       "    }\n",
       "</style>\n",
       "<table border=\"1\" class=\"dataframe\">\n",
       "  <thead>\n",
       "    <tr style=\"text-align: right;\">\n",
       "      <th></th>\n",
       "      <th>senseDate</th>\n",
       "      <th>CH4</th>\n",
       "      <th>CO2</th>\n",
       "      <th>O2</th>\n",
       "      <th>Temp</th>\n",
       "      <th>Humidity</th>\n",
       "      <th>PumpPres</th>\n",
       "      <th>GaugePres</th>\n",
       "      <th>BaroPres</th>\n",
       "    </tr>\n",
       "  </thead>\n",
       "  <tbody>\n",
       "    <tr>\n",
       "      <th>count</th>\n",
       "      <td>13031</td>\n",
       "      <td>13024.000000</td>\n",
       "      <td>13031.000000</td>\n",
       "      <td>13031.000000</td>\n",
       "      <td>13031.000000</td>\n",
       "      <td>13031.000000</td>\n",
       "      <td>13031.000000</td>\n",
       "      <td>13031.000000</td>\n",
       "      <td>13031.000000</td>\n",
       "    </tr>\n",
       "    <tr>\n",
       "      <th>unique</th>\n",
       "      <td>13028</td>\n",
       "      <td>NaN</td>\n",
       "      <td>NaN</td>\n",
       "      <td>NaN</td>\n",
       "      <td>NaN</td>\n",
       "      <td>NaN</td>\n",
       "      <td>NaN</td>\n",
       "      <td>NaN</td>\n",
       "      <td>NaN</td>\n",
       "    </tr>\n",
       "    <tr>\n",
       "      <th>top</th>\n",
       "      <td>2016-12-07 12:59:00</td>\n",
       "      <td>NaN</td>\n",
       "      <td>NaN</td>\n",
       "      <td>NaN</td>\n",
       "      <td>NaN</td>\n",
       "      <td>NaN</td>\n",
       "      <td>NaN</td>\n",
       "      <td>NaN</td>\n",
       "      <td>NaN</td>\n",
       "    </tr>\n",
       "    <tr>\n",
       "      <th>freq</th>\n",
       "      <td>3</td>\n",
       "      <td>NaN</td>\n",
       "      <td>NaN</td>\n",
       "      <td>NaN</td>\n",
       "      <td>NaN</td>\n",
       "      <td>NaN</td>\n",
       "      <td>NaN</td>\n",
       "      <td>NaN</td>\n",
       "      <td>NaN</td>\n",
       "    </tr>\n",
       "    <tr>\n",
       "      <th>first</th>\n",
       "      <td>2016-03-30 16:55:00</td>\n",
       "      <td>NaN</td>\n",
       "      <td>NaN</td>\n",
       "      <td>NaN</td>\n",
       "      <td>NaN</td>\n",
       "      <td>NaN</td>\n",
       "      <td>NaN</td>\n",
       "      <td>NaN</td>\n",
       "      <td>NaN</td>\n",
       "    </tr>\n",
       "    <tr>\n",
       "      <th>last</th>\n",
       "      <td>2017-11-17 16:29:00</td>\n",
       "      <td>NaN</td>\n",
       "      <td>NaN</td>\n",
       "      <td>NaN</td>\n",
       "      <td>NaN</td>\n",
       "      <td>NaN</td>\n",
       "      <td>NaN</td>\n",
       "      <td>NaN</td>\n",
       "      <td>NaN</td>\n",
       "    </tr>\n",
       "    <tr>\n",
       "      <th>mean</th>\n",
       "      <td>NaN</td>\n",
       "      <td>34.688886</td>\n",
       "      <td>2.872547</td>\n",
       "      <td>10.455221</td>\n",
       "      <td>11.541391</td>\n",
       "      <td>87.226744</td>\n",
       "      <td>-24.299246</td>\n",
       "      <td>-0.539322</td>\n",
       "      <td>1016.291050</td>\n",
       "    </tr>\n",
       "    <tr>\n",
       "      <th>std</th>\n",
       "      <td>NaN</td>\n",
       "      <td>29.566755</td>\n",
       "      <td>1.588534</td>\n",
       "      <td>6.965685</td>\n",
       "      <td>6.541824</td>\n",
       "      <td>16.179594</td>\n",
       "      <td>9.014698</td>\n",
       "      <td>0.730354</td>\n",
       "      <td>9.313949</td>\n",
       "    </tr>\n",
       "    <tr>\n",
       "      <th>min</th>\n",
       "      <td>NaN</td>\n",
       "      <td>0.020000</td>\n",
       "      <td>0.020000</td>\n",
       "      <td>0.000000</td>\n",
       "      <td>-2.490000</td>\n",
       "      <td>15.060000</td>\n",
       "      <td>-120.750000</td>\n",
       "      <td>-3.720000</td>\n",
       "      <td>980.540000</td>\n",
       "    </tr>\n",
       "    <tr>\n",
       "      <th>25%</th>\n",
       "      <td>NaN</td>\n",
       "      <td>2.600000</td>\n",
       "      <td>1.610000</td>\n",
       "      <td>4.655000</td>\n",
       "      <td>6.740000</td>\n",
       "      <td>82.835000</td>\n",
       "      <td>-27.630000</td>\n",
       "      <td>-0.990000</td>\n",
       "      <td>1010.650000</td>\n",
       "    </tr>\n",
       "    <tr>\n",
       "      <th>50%</th>\n",
       "      <td>NaN</td>\n",
       "      <td>36.070000</td>\n",
       "      <td>2.680000</td>\n",
       "      <td>10.260000</td>\n",
       "      <td>10.780000</td>\n",
       "      <td>93.210000</td>\n",
       "      <td>-26.140000</td>\n",
       "      <td>-0.490000</td>\n",
       "      <td>1016.870000</td>\n",
       "    </tr>\n",
       "    <tr>\n",
       "      <th>75%</th>\n",
       "      <td>NaN</td>\n",
       "      <td>59.782500</td>\n",
       "      <td>3.770000</td>\n",
       "      <td>17.465000</td>\n",
       "      <td>15.130000</td>\n",
       "      <td>97.910000</td>\n",
       "      <td>-23.940000</td>\n",
       "      <td>0.000000</td>\n",
       "      <td>1022.130000</td>\n",
       "    </tr>\n",
       "    <tr>\n",
       "      <th>max</th>\n",
       "      <td>NaN</td>\n",
       "      <td>106.380000</td>\n",
       "      <td>16.050000</td>\n",
       "      <td>21.050000</td>\n",
       "      <td>40.670000</td>\n",
       "      <td>100.000000</td>\n",
       "      <td>-4.390000</td>\n",
       "      <td>3.630000</td>\n",
       "      <td>1042.200000</td>\n",
       "    </tr>\n",
       "  </tbody>\n",
       "</table>\n",
       "</div>"
      ],
      "text/plain": [
       "                  senseDate           CH4           CO2            O2  \\\n",
       "count                 13031  13024.000000  13031.000000  13031.000000   \n",
       "unique                13028           NaN           NaN           NaN   \n",
       "top     2016-12-07 12:59:00           NaN           NaN           NaN   \n",
       "freq                      3           NaN           NaN           NaN   \n",
       "first   2016-03-30 16:55:00           NaN           NaN           NaN   \n",
       "last    2017-11-17 16:29:00           NaN           NaN           NaN   \n",
       "mean                    NaN     34.688886      2.872547     10.455221   \n",
       "std                     NaN     29.566755      1.588534      6.965685   \n",
       "min                     NaN      0.020000      0.020000      0.000000   \n",
       "25%                     NaN      2.600000      1.610000      4.655000   \n",
       "50%                     NaN     36.070000      2.680000     10.260000   \n",
       "75%                     NaN     59.782500      3.770000     17.465000   \n",
       "max                     NaN    106.380000     16.050000     21.050000   \n",
       "\n",
       "                Temp      Humidity      PumpPres     GaugePres      BaroPres  \n",
       "count   13031.000000  13031.000000  13031.000000  13031.000000  13031.000000  \n",
       "unique           NaN           NaN           NaN           NaN           NaN  \n",
       "top              NaN           NaN           NaN           NaN           NaN  \n",
       "freq             NaN           NaN           NaN           NaN           NaN  \n",
       "first            NaN           NaN           NaN           NaN           NaN  \n",
       "last             NaN           NaN           NaN           NaN           NaN  \n",
       "mean       11.541391     87.226744    -24.299246     -0.539322   1016.291050  \n",
       "std         6.541824     16.179594      9.014698      0.730354      9.313949  \n",
       "min        -2.490000     15.060000   -120.750000     -3.720000    980.540000  \n",
       "25%         6.740000     82.835000    -27.630000     -0.990000   1010.650000  \n",
       "50%        10.780000     93.210000    -26.140000     -0.490000   1016.870000  \n",
       "75%        15.130000     97.910000    -23.940000      0.000000   1022.130000  \n",
       "max        40.670000    100.000000     -4.390000      3.630000   1042.200000  "
      ]
     },
     "execution_count": 7,
     "metadata": {},
     "output_type": "execute_result"
    }
   ],
   "source": [
    "df.describe(include='all')"
   ]
  },
  {
   "cell_type": "markdown",
   "metadata": {},
   "source": [
    "\n",
    "Lets check the correlation between features, trends and seasonal/daily changes in the data\n"
   ]
  },
  {
   "cell_type": "code",
   "execution_count": 8,
   "metadata": {},
   "outputs": [
    {
     "data": {
      "text/html": [
       "<div>\n",
       "<style scoped>\n",
       "    .dataframe tbody tr th:only-of-type {\n",
       "        vertical-align: middle;\n",
       "    }\n",
       "\n",
       "    .dataframe tbody tr th {\n",
       "        vertical-align: top;\n",
       "    }\n",
       "\n",
       "    .dataframe thead th {\n",
       "        text-align: right;\n",
       "    }\n",
       "</style>\n",
       "<table border=\"1\" class=\"dataframe\">\n",
       "  <thead>\n",
       "    <tr style=\"text-align: right;\">\n",
       "      <th></th>\n",
       "      <th>CH4</th>\n",
       "      <th>CO2</th>\n",
       "      <th>O2</th>\n",
       "      <th>Temp</th>\n",
       "      <th>Humidity</th>\n",
       "      <th>PumpPres</th>\n",
       "      <th>GaugePres</th>\n",
       "      <th>BaroPres</th>\n",
       "    </tr>\n",
       "  </thead>\n",
       "  <tbody>\n",
       "    <tr>\n",
       "      <th>CH4</th>\n",
       "      <td>1.000000</td>\n",
       "      <td>0.840162</td>\n",
       "      <td>-0.976395</td>\n",
       "      <td>0.269242</td>\n",
       "      <td>-0.335115</td>\n",
       "      <td>0.498984</td>\n",
       "      <td>-0.434924</td>\n",
       "      <td>-0.131585</td>\n",
       "    </tr>\n",
       "    <tr>\n",
       "      <th>CO2</th>\n",
       "      <td>0.840162</td>\n",
       "      <td>1.000000</td>\n",
       "      <td>-0.910890</td>\n",
       "      <td>0.206293</td>\n",
       "      <td>-0.452575</td>\n",
       "      <td>0.540637</td>\n",
       "      <td>-0.500423</td>\n",
       "      <td>-0.049365</td>\n",
       "    </tr>\n",
       "    <tr>\n",
       "      <th>O2</th>\n",
       "      <td>-0.976395</td>\n",
       "      <td>-0.910890</td>\n",
       "      <td>1.000000</td>\n",
       "      <td>-0.255510</td>\n",
       "      <td>0.399595</td>\n",
       "      <td>-0.520597</td>\n",
       "      <td>0.461561</td>\n",
       "      <td>0.128655</td>\n",
       "    </tr>\n",
       "    <tr>\n",
       "      <th>Temp</th>\n",
       "      <td>0.269242</td>\n",
       "      <td>0.206293</td>\n",
       "      <td>-0.255510</td>\n",
       "      <td>1.000000</td>\n",
       "      <td>-0.414384</td>\n",
       "      <td>0.006682</td>\n",
       "      <td>-0.544199</td>\n",
       "      <td>-0.112487</td>\n",
       "    </tr>\n",
       "    <tr>\n",
       "      <th>Humidity</th>\n",
       "      <td>-0.335115</td>\n",
       "      <td>-0.452575</td>\n",
       "      <td>0.399595</td>\n",
       "      <td>-0.414384</td>\n",
       "      <td>1.000000</td>\n",
       "      <td>-0.439567</td>\n",
       "      <td>0.278362</td>\n",
       "      <td>0.049449</td>\n",
       "    </tr>\n",
       "    <tr>\n",
       "      <th>PumpPres</th>\n",
       "      <td>0.498984</td>\n",
       "      <td>0.540637</td>\n",
       "      <td>-0.520597</td>\n",
       "      <td>0.006682</td>\n",
       "      <td>-0.439567</td>\n",
       "      <td>1.000000</td>\n",
       "      <td>-0.047035</td>\n",
       "      <td>-0.142173</td>\n",
       "    </tr>\n",
       "    <tr>\n",
       "      <th>GaugePres</th>\n",
       "      <td>-0.434924</td>\n",
       "      <td>-0.500423</td>\n",
       "      <td>0.461561</td>\n",
       "      <td>-0.544199</td>\n",
       "      <td>0.278362</td>\n",
       "      <td>-0.047035</td>\n",
       "      <td>1.000000</td>\n",
       "      <td>0.074231</td>\n",
       "    </tr>\n",
       "    <tr>\n",
       "      <th>BaroPres</th>\n",
       "      <td>-0.131585</td>\n",
       "      <td>-0.049365</td>\n",
       "      <td>0.128655</td>\n",
       "      <td>-0.112487</td>\n",
       "      <td>0.049449</td>\n",
       "      <td>-0.142173</td>\n",
       "      <td>0.074231</td>\n",
       "      <td>1.000000</td>\n",
       "    </tr>\n",
       "  </tbody>\n",
       "</table>\n",
       "</div>"
      ],
      "text/plain": [
       "                CH4       CO2        O2      Temp  Humidity  PumpPres  \\\n",
       "CH4        1.000000  0.840162 -0.976395  0.269242 -0.335115  0.498984   \n",
       "CO2        0.840162  1.000000 -0.910890  0.206293 -0.452575  0.540637   \n",
       "O2        -0.976395 -0.910890  1.000000 -0.255510  0.399595 -0.520597   \n",
       "Temp       0.269242  0.206293 -0.255510  1.000000 -0.414384  0.006682   \n",
       "Humidity  -0.335115 -0.452575  0.399595 -0.414384  1.000000 -0.439567   \n",
       "PumpPres   0.498984  0.540637 -0.520597  0.006682 -0.439567  1.000000   \n",
       "GaugePres -0.434924 -0.500423  0.461561 -0.544199  0.278362 -0.047035   \n",
       "BaroPres  -0.131585 -0.049365  0.128655 -0.112487  0.049449 -0.142173   \n",
       "\n",
       "           GaugePres  BaroPres  \n",
       "CH4        -0.434924 -0.131585  \n",
       "CO2        -0.500423 -0.049365  \n",
       "O2          0.461561  0.128655  \n",
       "Temp       -0.544199 -0.112487  \n",
       "Humidity    0.278362  0.049449  \n",
       "PumpPres   -0.047035 -0.142173  \n",
       "GaugePres   1.000000  0.074231  \n",
       "BaroPres    0.074231  1.000000  "
      ]
     },
     "execution_count": 8,
     "metadata": {},
     "output_type": "execute_result"
    }
   ],
   "source": [
    "corrm = df.corr()\n",
    "corrm"
   ]
  },
  {
   "cell_type": "markdown",
   "metadata": {},
   "source": [
    "We can see that CH4 and CO2 are highly (positively) correlated, and CO2 and O2 are highly (negatively) correlated. "
   ]
  },
  {
   "cell_type": "code",
   "execution_count": 9,
   "metadata": {},
   "outputs": [
    {
     "data": {
      "image/png": "[encoded data removed]",
      "text/plain": [
       "<Figure size 1080x360 with 2 Axes>"
      ]
     },
     "metadata": {
      "needs_background": "light"
     },
     "output_type": "display_data"
    }
   ],
   "source": [
    "plt.figure(figsize=(15,5))\n",
    "heatmapdf = sns.heatmap(df.corr(), cmap='coolwarm',annot=True)"
   ]
  },
  {
   "cell_type": "markdown",
   "metadata": {},
   "source": [
    "<!-- We can see that, co2 and ch4 are highly (positively) correlated -->"
   ]
  },
  {
   "cell_type": "code",
   "execution_count": 10,
   "metadata": {},
   "outputs": [
    {
     "data": {
      "text/plain": [
       "Index(['senseDate', 'CH4', 'CO2', 'O2', 'Temp', 'Humidity', 'PumpPres',\n",
       "       'GaugePres', 'BaroPres'],\n",
       "      dtype='object')"
      ]
     },
     "execution_count": 10,
     "metadata": {},
     "output_type": "execute_result"
    }
   ],
   "source": [
    "df.columns"
   ]
  },
  {
   "cell_type": "markdown",
   "metadata": {},
   "source": [
    "We will use only CO2 data for our training model"
   ]
  },
  {
   "cell_type": "code",
   "execution_count": 11,
   "metadata": {},
   "outputs": [],
   "source": [
    "\n",
    "df.drop(['CH4', 'O2', 'Temp', 'Humidity', 'PumpPres',\n",
    "       'GaugePres', 'BaroPres'], axis=1, inplace=True)"
   ]
  },
  {
   "cell_type": "code",
   "execution_count": 12,
   "metadata": {},
   "outputs": [
    {
     "data": {
      "text/html": [
       "<div>\n",
       "<style scoped>\n",
       "    .dataframe tbody tr th:only-of-type {\n",
       "        vertical-align: middle;\n",
       "    }\n",
       "\n",
       "    .dataframe tbody tr th {\n",
       "        vertical-align: top;\n",
       "    }\n",
       "\n",
       "    .dataframe thead th {\n",
       "        text-align: right;\n",
       "    }\n",
       "</style>\n",
       "<table border=\"1\" class=\"dataframe\">\n",
       "  <thead>\n",
       "    <tr style=\"text-align: right;\">\n",
       "      <th></th>\n",
       "      <th>CO2</th>\n",
       "    </tr>\n",
       "    <tr>\n",
       "      <th>senseDate</th>\n",
       "      <th></th>\n",
       "    </tr>\n",
       "  </thead>\n",
       "  <tbody>\n",
       "    <tr>\n",
       "      <th>2016-03-30 16:55:00</th>\n",
       "      <td>0.12</td>\n",
       "    </tr>\n",
       "    <tr>\n",
       "      <th>2016-03-30 17:06:00</th>\n",
       "      <td>0.13</td>\n",
       "    </tr>\n",
       "    <tr>\n",
       "      <th>2016-03-30 18:03:00</th>\n",
       "      <td>0.13</td>\n",
       "    </tr>\n",
       "    <tr>\n",
       "      <th>2016-03-30 19:01:00</th>\n",
       "      <td>0.14</td>\n",
       "    </tr>\n",
       "    <tr>\n",
       "      <th>2016-03-30 19:59:00</th>\n",
       "      <td>0.14</td>\n",
       "    </tr>\n",
       "  </tbody>\n",
       "</table>\n",
       "</div>"
      ],
      "text/plain": [
       "                      CO2\n",
       "senseDate                \n",
       "2016-03-30 16:55:00  0.12\n",
       "2016-03-30 17:06:00  0.13\n",
       "2016-03-30 18:03:00  0.13\n",
       "2016-03-30 19:01:00  0.14\n",
       "2016-03-30 19:59:00  0.14"
      ]
     },
     "execution_count": 12,
     "metadata": {},
     "output_type": "execute_result"
    }
   ],
   "source": [
    "df.set_index('senseDate', inplace=True)\n",
    "df.head()"
   ]
  },
  {
   "cell_type": "code",
   "execution_count": 13,
   "metadata": {},
   "outputs": [
    {
     "data": {
      "image/png": "[encoded data removed]",
      "text/plain": [
       "<Figure size 432x288 with 1 Axes>"
      ]
     },
     "metadata": {
      "needs_background": "light"
     },
     "output_type": "display_data"
    }
   ],
   "source": [
    "plt.plot(df, label='CO2')\n",
    "plt.legend();"
   ]
  },
  {
   "cell_type": "markdown",
   "metadata": {},
   "source": [
    "## Inferential Statistics\n"
   ]
  },
  {
   "cell_type": "markdown",
   "metadata": {},
   "source": [
    "Let's perform a hypothesis testing,\n",
    "Null Hypothesis: CO2 sensor data  is a normal distribution\n",
    "Alternate Hypothesis: CO2 sensor data  is a normal distribution\n",
    "Significance level alpha is 0.05"
   ]
  },
  {
   "cell_type": "code",
   "execution_count": 14,
   "metadata": {},
   "outputs": [
    {
     "data": {
      "text/plain": [
       "NormaltestResult(statistic=596.9662967760688, pvalue=2.346473824795779e-130)"
      ]
     },
     "execution_count": 14,
     "metadata": {},
     "output_type": "execute_result"
    }
   ],
   "source": [
    "from scipy import stats\n",
    "stats.normaltest(df.CO2)"
   ]
  },
  {
   "cell_type": "code",
   "execution_count": 15,
   "metadata": {
    "scrolled": true
   },
   "outputs": [
    {
     "data": {
      "text/plain": [
       "<matplotlib.axes._subplots.AxesSubplot at 0x7f7f6f877ed0>"
      ]
     },
     "execution_count": 15,
     "metadata": {},
     "output_type": "execute_result"
    },
    {
     "data": {
      "image/png": "[encoded data removed]",
      "text/plain": [
       "<Figure size 432x288 with 1 Axes>"
      ]
     },
     "metadata": {
      "needs_background": "light"
     },
     "output_type": "display_data"
    }
   ],
   "source": [
    "sns.distplot(df)"
   ]
  },
  {
   "cell_type": "markdown",
   "metadata": {},
   "source": [
    "Since the value of p is smaller than 0.05 (almost zero), we can  reject the null hypothesis. The data is not normally distributed"
   ]
  },
  {
   "cell_type": "code",
   "execution_count": 16,
   "metadata": {},
   "outputs": [
    {
     "data": {
      "text/html": [
       "<div>\n",
       "<style scoped>\n",
       "    .dataframe tbody tr th:only-of-type {\n",
       "        vertical-align: middle;\n",
       "    }\n",
       "\n",
       "    .dataframe tbody tr th {\n",
       "        vertical-align: top;\n",
       "    }\n",
       "\n",
       "    .dataframe thead th {\n",
       "        text-align: right;\n",
       "    }\n",
       "</style>\n",
       "<table border=\"1\" class=\"dataframe\">\n",
       "  <thead>\n",
       "    <tr style=\"text-align: right;\">\n",
       "      <th></th>\n",
       "      <th>0</th>\n",
       "    </tr>\n",
       "  </thead>\n",
       "  <tbody>\n",
       "    <tr>\n",
       "      <th>0</th>\n",
       "      <td>0.000320</td>\n",
       "    </tr>\n",
       "    <tr>\n",
       "      <th>1</th>\n",
       "      <td>0.000347</td>\n",
       "    </tr>\n",
       "    <tr>\n",
       "      <th>2</th>\n",
       "      <td>0.000347</td>\n",
       "    </tr>\n",
       "    <tr>\n",
       "      <th>3</th>\n",
       "      <td>0.000374</td>\n",
       "    </tr>\n",
       "    <tr>\n",
       "      <th>4</th>\n",
       "      <td>0.000374</td>\n",
       "    </tr>\n",
       "  </tbody>\n",
       "</table>\n",
       "</div>"
      ],
      "text/plain": [
       "          0\n",
       "0  0.000320\n",
       "1  0.000347\n",
       "2  0.000347\n",
       "3  0.000374\n",
       "4  0.000374"
      ]
     },
     "execution_count": 16,
     "metadata": {},
     "output_type": "execute_result"
    }
   ],
   "source": [
    "from sklearn import preprocessing\n",
    "x_array = np.array(df['CO2'])\n",
    "normalized_X = preprocessing.normalize([x_array])\n",
    "dftest=pd.DataFrame(normalized_X)\n",
    "dftest=dftest.transpose()\n",
    "dftest.head()\n"
   ]
  },
  {
   "cell_type": "code",
   "execution_count": 17,
   "metadata": {},
   "outputs": [
    {
     "data": {
      "text/plain": [
       "NormaltestResult(statistic=array([596.96629678]), pvalue=array([2.34647382e-130]))"
      ]
     },
     "execution_count": 17,
     "metadata": {},
     "output_type": "execute_result"
    }
   ],
   "source": [
    "stats.normaltest(dftest)"
   ]
  },
  {
   "cell_type": "code",
   "execution_count": 18,
   "metadata": {},
   "outputs": [
    {
     "data": {
      "text/plain": [
       "<matplotlib.axes._subplots.AxesSubplot at 0x7f7f6fa4ee10>"
      ]
     },
     "execution_count": 18,
     "metadata": {},
     "output_type": "execute_result"
    },
    {
     "data": {
      "image/png": "[encoded data removed]",
      "text/plain": [
       "<Figure size 432x288 with 1 Axes>"
      ]
     },
     "metadata": {
      "needs_background": "light"
     },
     "output_type": "display_data"
    }
   ],
   "source": [
    "sns.distplot(dftest)"
   ]
  },
  {
   "cell_type": "code",
   "execution_count": null,
   "metadata": {},
   "outputs": [],
   "source": []
  },
  {
   "cell_type": "code",
   "execution_count": 19,
   "metadata": {},
   "outputs": [
    {
     "name": "stdout",
     "output_type": "stream",
     "text": [
      "(11076, 1) (1955, 1)\n"
     ]
    }
   ],
   "source": [
    "train_size = int(len(df) * 0.85)\n",
    "test_size = len(df) - train_size\n",
    "train, test = df.iloc[0:train_size], df.iloc[train_size:len(df)]\n",
    "print(train.shape, test.shape)"
   ]
  },
  {
   "cell_type": "code",
   "execution_count": 20,
   "metadata": {},
   "outputs": [
    {
     "name": "stderr",
     "output_type": "stream",
     "text": [
      "/opt/anaconda3/lib/python3.7/site-packages/ipykernel_launcher.py:3: SettingWithCopyWarning: \n",
      "A value is trying to be set on a copy of a slice from a DataFrame.\n",
      "Try using .loc[row_indexer,col_indexer] = value instead\n",
      "\n",
      "See the caveats in the documentation: https://pandas.pydata.org/pandas-docs/stable/user_guide/indexing.html#returning-a-view-versus-a-copy\n",
      "  This is separate from the ipykernel package so we can avoid doing imports until\n",
      "/opt/anaconda3/lib/python3.7/site-packages/ipykernel_launcher.py:4: SettingWithCopyWarning: \n",
      "A value is trying to be set on a copy of a slice from a DataFrame.\n",
      "Try using .loc[row_indexer,col_indexer] = value instead\n",
      "\n",
      "See the caveats in the documentation: https://pandas.pydata.org/pandas-docs/stable/user_guide/indexing.html#returning-a-view-versus-a-copy\n",
      "  after removing the cwd from sys.path.\n"
     ]
    }
   ],
   "source": [
    "\n",
    "scaler = StandardScaler()\n",
    "scaler = scaler.fit(train[['CO2']])\n",
    "train['CO2'] = scaler.transform(train[['CO2']])\n",
    "test['CO2'] = scaler.transform(test[['CO2']])"
   ]
  },
  {
   "cell_type": "markdown",
   "metadata": {},
   "source": [
    "## Creating series and Model"
   ]
  },
  {
   "cell_type": "code",
   "execution_count": 21,
   "metadata": {},
   "outputs": [],
   "source": [
    "def create_dataset(X, y, time_steps=1):\n",
    "    Xs, ys = [], []\n",
    "    for i in range(len(X) - time_steps):\n",
    "        v = X.iloc[i:(i + time_steps)].values\n",
    "        Xs.append(v)\n",
    "        ys.append(y.iloc[i + time_steps])\n",
    "    return np.array(Xs), np.array(ys)"
   ]
  },
  {
   "cell_type": "markdown",
   "metadata": {},
   "source": [
    "Let's create sequences with 10 days worth of historical data:"
   ]
  },
  {
   "cell_type": "code",
   "execution_count": 22,
   "metadata": {},
   "outputs": [
    {
     "name": "stdout",
     "output_type": "stream",
     "text": [
      "(11046, 30, 1)\n"
     ]
    }
   ],
   "source": [
    "TIME_STEPS = 30\n",
    "# reshape to [samples, time_steps, n_features]\n",
    "X_train, y_train = create_dataset(train[['CO2']],train.CO2,TIME_STEPS)\n",
    "X_test, y_test = create_dataset(test[['CO2']],test.CO2,TIME_STEPS)\n",
    "print(X_train.shape)"
   ]
  },
  {
   "cell_type": "code",
   "execution_count": 23,
   "metadata": {},
   "outputs": [],
   "source": [
    "\n",
    "model = keras.Sequential()\n",
    "model.add(keras.layers.LSTM(units=64,input_shape=(X_train.shape[1], X_train.shape[2])))\n",
    "model.add(keras.layers.Dropout(rate=0.2))\n",
    "model.add(keras.layers.RepeatVector(n=X_train.shape[1]))\n",
    "model.add(keras.layers.LSTM(units=64, return_sequences=True))\n",
    "model.add(keras.layers.Dropout(rate=0.2))\n",
    "model.add(keras.layers.TimeDistributed(keras.layers.Dense(units=X_train.shape[2])))\n",
    "model.compile(loss='mae', optimizer='adam')"
   ]
  },
  {
   "cell_type": "code",
   "execution_count": 24,
   "metadata": {},
   "outputs": [
    {
     "name": "stdout",
     "output_type": "stream",
     "text": [
      "Epoch 1/10\n",
      "311/311 [==============================] - 7s 24ms/step - loss: 0.1526 - val_loss: 0.3711\n",
      "Epoch 2/10\n",
      "311/311 [==============================] - 7s 21ms/step - loss: 0.1000 - val_loss: 0.3323\n",
      "Epoch 3/10\n",
      "311/311 [==============================] - 7s 21ms/step - loss: 0.0853 - val_loss: 0.3181\n",
      "Epoch 4/10\n",
      "311/311 [==============================] - 7s 21ms/step - loss: 0.0762 - val_loss: 0.1876\n",
      "Epoch 5/10\n",
      "311/311 [==============================] - 7s 21ms/step - loss: 0.0722 - val_loss: 0.1613\n",
      "Epoch 6/10\n",
      "311/311 [==============================] - 7s 23ms/step - loss: 0.0705 - val_loss: 0.2244\n",
      "Epoch 7/10\n",
      "311/311 [==============================] - 7s 23ms/step - loss: 0.0689 - val_loss: 0.1407\n",
      "Epoch 8/10\n",
      "311/311 [==============================] - 7s 24ms/step - loss: 0.0667 - val_loss: 0.1089\n",
      "Epoch 9/10\n",
      "311/311 [==============================] - 8s 24ms/step - loss: 0.0682 - val_loss: 0.2274\n",
      "Epoch 10/10\n",
      "311/311 [==============================] - 8s 27ms/step - loss: 0.0670 - val_loss: 0.1323\n"
     ]
    }
   ],
   "source": [
    "history = model.fit(X_train, y_train,epochs=10,batch_size=32,validation_split=0.1,shuffle=False)"
   ]
  },
  {
   "cell_type": "code",
   "execution_count": 25,
   "metadata": {},
   "outputs": [
    {
     "data": {
      "image/png": "[encoded data removed]",
      "text/plain": [
       "<Figure size 432x288 with 1 Axes>"
      ]
     },
     "metadata": {
      "needs_background": "light"
     },
     "output_type": "display_data"
    }
   ],
   "source": [
    "# compare the trian test error\n",
    "\n",
    "plt.plot(history.history['loss'], label='train')\n",
    "plt.plot(history.history['val_loss'], label='test')\n",
    "plt.legend();"
   ]
  },
  {
   "cell_type": "markdown",
   "metadata": {},
   "source": [
    "Let’s calculate the Mean Absolute Error (MAE) on the training data:"
   ]
  },
  {
   "cell_type": "code",
   "execution_count": 26,
   "metadata": {},
   "outputs": [],
   "source": [
    "X_train_pred = model.predict(X_train)\n",
    "train_mae_loss = np.mean(np.abs(X_train_pred - X_train), axis=1)"
   ]
  },
  {
   "cell_type": "code",
   "execution_count": 27,
   "metadata": {},
   "outputs": [
    {
     "data": {
      "image/png": "[encoded data removed]",
      "text/plain": [
       "<Figure size 432x288 with 1 Axes>"
      ]
     },
     "metadata": {
      "needs_background": "light"
     },
     "output_type": "display_data"
    }
   ],
   "source": [
    "\n",
    "sns.distplot(train_mae_loss, bins=50);"
   ]
  },
  {
   "cell_type": "markdown",
   "metadata": {},
   "source": [
    "Let's pick a threshold of 0.6\n",
    "Above this will be categorized as anomaly"
   ]
  },
  {
   "cell_type": "markdown",
   "metadata": {},
   "source": [
    "## Applying a threshold and classify anomalies"
   ]
  },
  {
   "cell_type": "code",
   "execution_count": 28,
   "metadata": {},
   "outputs": [],
   "source": [
    "th=0.6\n",
    "# calculate the error on test data\n",
    "X_test_pred = model.predict(X_test)\n",
    "test_mae_loss = np.mean(np.abs(X_test_pred - X_test), axis=1)"
   ]
  },
  {
   "cell_type": "code",
   "execution_count": 29,
   "metadata": {},
   "outputs": [],
   "source": [
    "# create a new dataframe containing of loss and errors above threshold\n",
    "test_score_df = pd.DataFrame(index=test[TIME_STEPS:].index)\n",
    "test_score_df['loss'] = test_mae_loss\n",
    "test_score_df['threshold'] = th\n",
    "test_score_df['anomaly'] = test_score_df.loss > test_score_df.threshold\n",
    "test_score_df['CO2'] = test[TIME_STEPS:].CO2"
   ]
  },
  {
   "cell_type": "code",
   "execution_count": 30,
   "metadata": {},
   "outputs": [
    {
     "data": {
      "text/html": [
       "<div>\n",
       "<style scoped>\n",
       "    .dataframe tbody tr th:only-of-type {\n",
       "        vertical-align: middle;\n",
       "    }\n",
       "\n",
       "    .dataframe tbody tr th {\n",
       "        vertical-align: top;\n",
       "    }\n",
       "\n",
       "    .dataframe thead th {\n",
       "        text-align: right;\n",
       "    }\n",
       "</style>\n",
       "<table border=\"1\" class=\"dataframe\">\n",
       "  <thead>\n",
       "    <tr style=\"text-align: right;\">\n",
       "      <th></th>\n",
       "      <th>loss</th>\n",
       "      <th>threshold</th>\n",
       "      <th>anomaly</th>\n",
       "      <th>CO2</th>\n",
       "    </tr>\n",
       "    <tr>\n",
       "      <th>senseDate</th>\n",
       "      <th></th>\n",
       "      <th></th>\n",
       "      <th></th>\n",
       "      <th></th>\n",
       "    </tr>\n",
       "  </thead>\n",
       "  <tbody>\n",
       "    <tr>\n",
       "      <th>2017-08-20 22:16:00</th>\n",
       "      <td>0.161848</td>\n",
       "      <td>0.6</td>\n",
       "      <td>False</td>\n",
       "      <td>2.286426</td>\n",
       "    </tr>\n",
       "    <tr>\n",
       "      <th>2017-08-20 23:18:00</th>\n",
       "      <td>0.161554</td>\n",
       "      <td>0.6</td>\n",
       "      <td>False</td>\n",
       "      <td>2.294075</td>\n",
       "    </tr>\n",
       "    <tr>\n",
       "      <th>2017-08-21 00:20:00</th>\n",
       "      <td>0.155707</td>\n",
       "      <td>0.6</td>\n",
       "      <td>False</td>\n",
       "      <td>2.301723</td>\n",
       "    </tr>\n",
       "    <tr>\n",
       "      <th>2017-08-21 01:22:00</th>\n",
       "      <td>0.147856</td>\n",
       "      <td>0.6</td>\n",
       "      <td>False</td>\n",
       "      <td>2.339968</td>\n",
       "    </tr>\n",
       "    <tr>\n",
       "      <th>2017-08-21 02:24:00</th>\n",
       "      <td>0.127670</td>\n",
       "      <td>0.6</td>\n",
       "      <td>False</td>\n",
       "      <td>2.317021</td>\n",
       "    </tr>\n",
       "  </tbody>\n",
       "</table>\n",
       "</div>"
      ],
      "text/plain": [
       "                         loss  threshold  anomaly       CO2\n",
       "senseDate                                                  \n",
       "2017-08-20 22:16:00  0.161848        0.6    False  2.286426\n",
       "2017-08-20 23:18:00  0.161554        0.6    False  2.294075\n",
       "2017-08-21 00:20:00  0.155707        0.6    False  2.301723\n",
       "2017-08-21 01:22:00  0.147856        0.6    False  2.339968\n",
       "2017-08-21 02:24:00  0.127670        0.6    False  2.317021"
      ]
     },
     "execution_count": 30,
     "metadata": {},
     "output_type": "execute_result"
    }
   ],
   "source": [
    "test_score_df.head()"
   ]
  },
  {
   "cell_type": "code",
   "execution_count": 31,
   "metadata": {},
   "outputs": [
    {
     "data": {
      "image/png": "[encoded data removed]",
      "text/plain": [
       "<Figure size 432x288 with 1 Axes>"
      ]
     },
     "metadata": {
      "needs_background": "light"
     },
     "output_type": "display_data"
    }
   ],
   "source": [
    "plt.plot(test_score_df.index, test_score_df.loss, label='loss')\n",
    "plt.plot(test_score_df.index, test_score_df.threshold, label='threshold')\n",
    "plt.xticks(rotation=25)\n",
    "plt.legend();"
   ]
  },
  {
   "cell_type": "code",
   "execution_count": 32,
   "metadata": {},
   "outputs": [
    {
     "data": {
      "text/html": [
       "<div>\n",
       "<style scoped>\n",
       "    .dataframe tbody tr th:only-of-type {\n",
       "        vertical-align: middle;\n",
       "    }\n",
       "\n",
       "    .dataframe tbody tr th {\n",
       "        vertical-align: top;\n",
       "    }\n",
       "\n",
       "    .dataframe thead th {\n",
       "        text-align: right;\n",
       "    }\n",
       "</style>\n",
       "<table border=\"1\" class=\"dataframe\">\n",
       "  <thead>\n",
       "    <tr style=\"text-align: right;\">\n",
       "      <th></th>\n",
       "      <th>loss</th>\n",
       "      <th>threshold</th>\n",
       "      <th>anomaly</th>\n",
       "      <th>CO2</th>\n",
       "    </tr>\n",
       "    <tr>\n",
       "      <th>senseDate</th>\n",
       "      <th></th>\n",
       "      <th></th>\n",
       "      <th></th>\n",
       "      <th></th>\n",
       "    </tr>\n",
       "  </thead>\n",
       "  <tbody>\n",
       "    <tr>\n",
       "      <th>2017-08-27 11:32:00</th>\n",
       "      <td>0.837336</td>\n",
       "      <td>0.6</td>\n",
       "      <td>True</td>\n",
       "      <td>1.934579</td>\n",
       "    </tr>\n",
       "    <tr>\n",
       "      <th>2017-08-30 13:02:00</th>\n",
       "      <td>1.307208</td>\n",
       "      <td>0.6</td>\n",
       "      <td>True</td>\n",
       "      <td>1.131449</td>\n",
       "    </tr>\n",
       "    <tr>\n",
       "      <th>2017-08-30 14:05:00</th>\n",
       "      <td>1.087324</td>\n",
       "      <td>0.6</td>\n",
       "      <td>True</td>\n",
       "      <td>1.207938</td>\n",
       "    </tr>\n",
       "    <tr>\n",
       "      <th>2017-08-30 15:07:00</th>\n",
       "      <td>0.953660</td>\n",
       "      <td>0.6</td>\n",
       "      <td>True</td>\n",
       "      <td>1.261480</td>\n",
       "    </tr>\n",
       "    <tr>\n",
       "      <th>2017-08-30 16:09:00</th>\n",
       "      <td>0.863344</td>\n",
       "      <td>0.6</td>\n",
       "      <td>True</td>\n",
       "      <td>1.315022</td>\n",
       "    </tr>\n",
       "    <tr>\n",
       "      <th>...</th>\n",
       "      <td>...</td>\n",
       "      <td>...</td>\n",
       "      <td>...</td>\n",
       "      <td>...</td>\n",
       "    </tr>\n",
       "    <tr>\n",
       "      <th>2017-11-06 20:09:00</th>\n",
       "      <td>0.786680</td>\n",
       "      <td>0.6</td>\n",
       "      <td>True</td>\n",
       "      <td>1.032014</td>\n",
       "    </tr>\n",
       "    <tr>\n",
       "      <th>2017-11-06 21:10:00</th>\n",
       "      <td>0.720858</td>\n",
       "      <td>0.6</td>\n",
       "      <td>True</td>\n",
       "      <td>1.054961</td>\n",
       "    </tr>\n",
       "    <tr>\n",
       "      <th>2017-11-06 22:12:00</th>\n",
       "      <td>0.677442</td>\n",
       "      <td>0.6</td>\n",
       "      <td>True</td>\n",
       "      <td>1.100854</td>\n",
       "    </tr>\n",
       "    <tr>\n",
       "      <th>2017-11-06 23:13:00</th>\n",
       "      <td>0.633590</td>\n",
       "      <td>0.6</td>\n",
       "      <td>True</td>\n",
       "      <td>1.100854</td>\n",
       "    </tr>\n",
       "    <tr>\n",
       "      <th>2017-11-07 00:14:00</th>\n",
       "      <td>0.602397</td>\n",
       "      <td>0.6</td>\n",
       "      <td>True</td>\n",
       "      <td>1.200289</td>\n",
       "    </tr>\n",
       "  </tbody>\n",
       "</table>\n",
       "<p>109 rows × 4 columns</p>\n",
       "</div>"
      ],
      "text/plain": [
       "                         loss  threshold  anomaly       CO2\n",
       "senseDate                                                  \n",
       "2017-08-27 11:32:00  0.837336        0.6     True  1.934579\n",
       "2017-08-30 13:02:00  1.307208        0.6     True  1.131449\n",
       "2017-08-30 14:05:00  1.087324        0.6     True  1.207938\n",
       "2017-08-30 15:07:00  0.953660        0.6     True  1.261480\n",
       "2017-08-30 16:09:00  0.863344        0.6     True  1.315022\n",
       "...                       ...        ...      ...       ...\n",
       "2017-11-06 20:09:00  0.786680        0.6     True  1.032014\n",
       "2017-11-06 21:10:00  0.720858        0.6     True  1.054961\n",
       "2017-11-06 22:12:00  0.677442        0.6     True  1.100854\n",
       "2017-11-06 23:13:00  0.633590        0.6     True  1.100854\n",
       "2017-11-07 00:14:00  0.602397        0.6     True  1.200289\n",
       "\n",
       "[109 rows x 4 columns]"
      ]
     },
     "execution_count": 32,
     "metadata": {},
     "output_type": "execute_result"
    }
   ],
   "source": [
    "\n",
    "anomalies = test_score_df[test_score_df.anomaly == True]\n",
    "anomalies"
   ]
  },
  {
   "cell_type": "code",
   "execution_count": 33,
   "metadata": {},
   "outputs": [
    {
     "data": {
      "image/png": "[encoded data removed]",
      "text/plain": [
       "<Figure size 432x288 with 1 Axes>"
      ]
     },
     "metadata": {
      "needs_background": "light"
     },
     "output_type": "display_data"
    }
   ],
   "source": [
    "plt.plot(test[TIME_STEPS:].index, scaler.inverse_transform(test[TIME_STEPS:].CO2), label='CO2');\n",
    "# plt.figure(figsize=(15,8))\n",
    "sns.scatterplot(anomalies.index,scaler.inverse_transform(anomalies.CO2),color=sns.color_palette()[3],s=30, label='anomaly')\n",
    "plt.xticks(rotation=25)\n",
    "plt.legend();"
   ]
  },
  {
   "cell_type": "markdown",
   "metadata": {},
   "source": [
    "## Suggestions"
   ]
  },
  {
   "cell_type": "markdown",
   "metadata": {},
   "source": [
    "### Areas of Imporvement\n",
    "\n",
    "- Other anomaly detection algorthms can be experimented.\n",
    "\n",
    "- Our time series data set was an unlabelled data set and we created an unsupervised model using LSTM Autoencoders. If we have a labelled data, it will be better to compare our prediction results with real values, with precision, recall, F1 scores and ROC curves \n",
    "\n",
    "- If we have different sensors devices for the same feature (ie: 4 sensors for CO2) data, we could do more statistical comparisons,\n",
    "\n",
    "- More data explorations such as timely performance of sensors (day/night, weekdays/weekends, summer/winter etc) could be done. (Facebook Prphet library can be used)\n",
    "\n",
    "- Adding some functions for selecting best hyper parameters, such as early stopping for epochs."
   ]
  },
  {
   "cell_type": "code",
   "execution_count": null,
   "metadata": {},
   "outputs": [],
   "source": []
  }
 ],
 "metadata": {
  "kernelspec": {
   "display_name": "Python 3",
   "language": "python",
   "name": "python3"
  },
  "language_info": {
   "codemirror_mode": {
    "name": "ipython",
    "version": 3
   },
   "file_extension": ".py",
   "mimetype": "text/x-python",
   "name": "python",
   "nbconvert_exporter": "python",
   "pygments_lexer": "ipython3",
   "version": "3.7.6"
  }
 },
 "nbformat": 4,
 "nbformat_minor": 4
}
